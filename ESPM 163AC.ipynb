{
 "cells": [
  {
   "cell_type": "markdown",
   "metadata": {},
   "source": [
    "# Introduction to Jupyter"
   ]
  },
  {
   "cell_type": "markdown",
   "metadata": {},
   "source": [
    "## The Jupyter Notebook\n",
    "\n",
    "*If you run into errors, check the [common errors](https://docs.google.com/document/d/1-LUvfYYI5UtjYiZerCGIBNgzkaJHNxl4530tgh37uYs/edit?usp=sharing) Google doc first.*\n",
    "\n",
    "First of all, note that this page is divided into what are called \"cells\". For example, the following cell is a \"code cell\" where you will write your code. You'll see a `In [ ]:` next to each cell for code, which is a counter for the cells you have run. You can navigate cells by clicking on them or by using the up and down arrows. Cells will be highlighted as you navigate them."
   ]
  },
  {
   "cell_type": "code",
   "execution_count": 14,
   "metadata": {},
   "outputs": [],
   "source": [
    "# this is a code cell"
   ]
  },
  {
   "cell_type": "markdown",
   "metadata": {},
   "source": [
    "### Executing cells\n",
    "\n",
    "<p></p>\n",
    "\n",
    "<div class=\"alert alert-info\">\n",
    "You can execute cells with <b><code>Ctrl-Enter</code></b> (which will run the cell and keep the same cell selected), or <b><code>Shift-Enter</code></b> (which will run the cell and then select the next cell).\n",
    "</div>\n",
    "\n",
    "Try running the following cell and see what it prints out:"
   ]
  },
  {
   "cell_type": "code",
   "execution_count": 15,
   "metadata": {},
   "outputs": [
    {
     "name": "stdout",
     "output_type": "stream",
     "text": [
      "Hello world!\n"
     ]
    }
   ],
   "source": [
    "print(\"Hello world!\")"
   ]
  },
  {
   "cell_type": "code",
   "execution_count": 16,
   "metadata": {},
   "outputs": [
    {
     "data": {
      "text/plain": [
       "20"
      ]
     },
     "execution_count": 16,
     "metadata": {},
     "output_type": "execute_result"
    }
   ],
   "source": [
    "10 + 10"
   ]
  },
  {
   "cell_type": "code",
   "execution_count": 17,
   "metadata": {},
   "outputs": [
    {
     "data": {
      "text/plain": [
       "4.0"
      ]
     },
     "execution_count": 17,
     "metadata": {},
     "output_type": "execute_result"
    }
   ],
   "source": [
    "(10 + 10) / 5"
   ]
  },
  {
   "cell_type": "markdown",
   "metadata": {},
   "source": [
    "Now run this cell to `import` some code we'll use today, nothing will `print` out, don't worry!"
   ]
  },
  {
   "cell_type": "code",
   "execution_count": 18,
   "metadata": {},
   "outputs": [],
   "source": [
    "import numpy as np\n",
    "import matplotlib.pyplot as plt\n",
    "from datascience import *\n",
    "%matplotlib inline \n",
    "plt.style.use(\"fivethirtyeight\")"
   ]
  },
  {
   "cell_type": "markdown",
   "metadata": {},
   "source": [
    "### Importing\n",
    "\n",
    "In data analytics, there is almost always a file holding your data that already exists. There are thousands of databases online that contain information on topics from all domains. In general, to import data from a file, we write:\n",
    "\n",
    "```python\n",
    "Table.read_table(\"file_name\")\n",
    "```\n",
    "\n",
    "Most often, these file names end in `.csv` to show the data format. `.csv` format is popular for spreadsheets and can be imported/exported from programs such as Microsoft Excel, OpenOffice Calc, or Google spreadsheets. \n",
    " \n",
    "An example is shown below using [U.S. Census data](http://www2.census.gov/programs-surveys/popest/datasets/2010-2015/national/asrh/nc-est2015-agesex-res.csv). "
   ]
  },
  {
   "cell_type": "code",
   "execution_count": 19,
   "metadata": {},
   "outputs": [
    {
     "data": {
      "text/html": [
       "<table border=\"1\" class=\"dataframe\">\n",
       "    <thead>\n",
       "        <tr>\n",
       "            <th>Census Tract</th> <th>CES 3.0 Score</th> <th>CES 3.0 Percentile</th> <th>CES 3.0 Percentile Range</th> <th>Total Population</th> <th>California County</th> <th>18.8</th> <th>73.6</th> <th>7.6</th> <th>65.3</th> <th>4.2</th> <th>24.6</th> <th>0.5</th> <th>3.5</th> <th>1.8</th> <th>ZIP</th> <th>Nearby City \r\n",
       "(to help approximate location only)</th> <th>Longitude</th> <th>Latitude</th> <th> CES 3.0 Percentile</th> <th>CES 3.0 \r\n",
       "Percentile Range</th> <th>SB 535 Disadvantaged Community</th> <th>Ozone</th> <th>Ozone Pctl</th> <th>PM2.5</th> <th>PM2.5 Pctl</th> <th>Diesel PM</th> <th>Diesel PM Pctl</th> <th>Drinking Water</th> <th>Drinking Water Pctl</th> <th>Pesticides</th> <th>Pesticides Pctl</th> <th>Tox. Release</th> <th>Tox. Release Pctl</th> <th>Traffic</th> <th>Traffic Pctl</th> <th>Cleanup Sites</th> <th>Cleanup Sites Pctl</th> <th>Groundwater Threats</th> <th>Groundwater Threats Pctl</th> <th>Haz. Waste</th> <th>Haz. Waste Pctl</th> <th>Imp. Water Bodies</th> <th>Imp. Water Bodies Pctl</th> <th>Solid Waste</th> <th>Solid Waste Pctl</th> <th>Pollution Burden</th> <th>Pollution Burden Score</th> <th>Pollution Burden Pctl</th> <th>Asthma</th> <th>Asthma Pctl</th> <th>Low Birth Weight</th> <th>Low Birth Weight Pctl</th> <th>Cardiovascular Disease</th> <th>Cardiovascular Disease Pctl</th> <th>Education</th> <th>Education Pctl</th> <th>Linguistic Isolation</th> <th>Linguistic Isolation Pctl</th> <th>Poverty</th> <th>Poverty Pctl</th> <th>Unemployment</th> <th>Unemployment Pctl</th> <th>Housing Burden</th> <th>Housing Burden Pctl</th> <th>Pop. Char. </th> <th>Pop. Char. Score</th> <th>Pop. Char. Pctl</th>\n",
       "        </tr>\n",
       "    </thead>\n",
       "    <tbody>\n",
       "        <tr>\n",
       "            <td>6019001100  </td> <td>94.09        </td> <td>100               </td> <td>95-100% (highest scores)</td> <td>3174            </td> <td>Fresno           </td> <td>18.8</td> <td>73.6</td> <td>7.6 </td> <td>65.3</td> <td>4.2 </td> <td>24.6</td> <td>0.5 </td> <td>3.5 </td> <td>1.8 </td> <td>93706</td> <td>Fresno                                           </td> <td>-119.782 </td> <td>36.7097 </td> <td>100                </td> <td>95-100% (highest scores)  </td> <td>Yes                           </td> <td>0.065</td> <td>98.18     </td> <td>15.4 </td> <td>97.22     </td> <td>48.524   </td> <td>95.54         </td> <td>681.2         </td> <td>80.92              </td> <td>2.75      </td> <td>47.82          </td> <td>18552       </td> <td>97.46            </td> <td>909.14 </td> <td>62.98       </td> <td>80.5         </td> <td>98.67             </td> <td>45.75              </td> <td>89.85                   </td> <td>0.795     </td> <td>84.32          </td> <td>0                </td> <td>0                     </td> <td>21.75      </td> <td>97.81           </td> <td>79.96           </td> <td>9.85                  </td> <td>99.95                </td> <td>131.64</td> <td>97.67      </td> <td>7.44            </td> <td>93.84                </td> <td>14.13                 </td> <td>96.31                      </td> <td>53.3     </td> <td>95.76         </td> <td>16.2                </td> <td>77.51                    </td> <td>76.3   </td> <td>97.12       </td> <td>17.6        </td> <td>91.72            </td> <td>26            </td> <td>79.4               </td> <td>92.12      </td> <td>9.55            </td> <td>99.7           </td>\n",
       "        </tr>\n",
       "        <tr>\n",
       "            <td>6071001600  </td> <td>90.68        </td> <td>99.99             </td> <td>95-100% (highest scores)</td> <td>6133            </td> <td>San Bernardino   </td> <td>19.7</td> <td>76.1</td> <td>4.2 </td> <td>91.1</td> <td>5.8 </td> <td>0.7 </td> <td>0.3 </td> <td>1.4 </td> <td>0.7 </td> <td>91761</td> <td>Ontario                                          </td> <td>-117.618 </td> <td>34.0578 </td> <td>99.99              </td> <td>95-100% (highest scores)  </td> <td>Yes                           </td> <td>0.062</td> <td>91.1      </td> <td>13.31</td> <td>93.64     </td> <td>38.556   </td> <td>92.12         </td> <td>904.66        </td> <td>96.11              </td> <td>1.37      </td> <td>41.34          </td> <td>7494.24     </td> <td>89.05            </td> <td>782.26 </td> <td>55.66       </td> <td>66.2         </td> <td>97.68             </td> <td>36                 </td> <td>85.57                   </td> <td>1.25      </td> <td>88.77          </td> <td>5                </td> <td>55.01                 </td> <td>12         </td> <td>92.17           </td> <td>81.19           </td> <td>10                    </td> <td>100                  </td> <td>60.66 </td> <td>69.78      </td> <td>7.04            </td> <td>90.85                </td> <td>12.94                 </td> <td>92.66                      </td> <td>53.3     </td> <td>95.76         </td> <td>33.4                </td> <td>96.25                    </td> <td>72.5   </td> <td>94.63       </td> <td>12.3        </td> <td>71.82            </td> <td>34.1          </td> <td>93.75              </td> <td>87.44      </td> <td>9.07            </td> <td>98.11          </td>\n",
       "        </tr>\n",
       "        <tr>\n",
       "            <td>6019000200  </td> <td>85.97        </td> <td>99.97             </td> <td>95-100% (highest scores)</td> <td>3167            </td> <td>Fresno           </td> <td>21.5</td> <td>72.5</td> <td>6   </td> <td>63.6</td> <td>5.3 </td> <td>18.9</td> <td>0.6 </td> <td>9.8 </td> <td>1.8 </td> <td>93706</td> <td>Fresno                                           </td> <td>-119.806 </td> <td>36.7355 </td> <td>99.97              </td> <td>95-100% (highest scores)  </td> <td>Yes                           </td> <td>0.062</td> <td>91.1      </td> <td>15.4 </td> <td>97.22     </td> <td>47.445   </td> <td>95.42         </td> <td>681.2         </td> <td>80.92              </td> <td>3.03      </td> <td>48.75          </td> <td>12454.9     </td> <td>95.42            </td> <td>576.52 </td> <td>39          </td> <td>22           </td> <td>85.13             </td> <td>30.25              </td> <td>81.93                   </td> <td>0.2       </td> <td>60.5           </td> <td>0                </td> <td>0                     </td> <td>2.5        </td> <td>57.18           </td> <td>71.16           </td> <td>8.76                  </td> <td>99                   </td> <td>142.12</td> <td>98.33      </td> <td>10.16           </td> <td>99.78                </td> <td>14.96                 </td> <td>97.67                      </td> <td>42.3     </td> <td>89.06         </td> <td>16.7                </td> <td>78.39                    </td> <td>86.8   </td> <td>99.56       </td> <td>16.1        </td> <td>87.98            </td> <td>40.1          </td> <td>97.85              </td> <td>94.58      </td> <td>9.81            </td> <td>99.99          </td>\n",
       "        </tr>\n",
       "        <tr>\n",
       "            <td>6077000801  </td> <td>82.49        </td> <td>99.96             </td> <td>95-100% (highest scores)</td> <td>6692            </td> <td>San Joaquin      </td> <td>18.7</td> <td>74.5</td> <td>6.8 </td> <td>57.4</td> <td>6   </td> <td>12.5</td> <td>0.3 </td> <td>20.9</td> <td>2.8 </td> <td>95203</td> <td>Stockton                                         </td> <td>-121.315 </td> <td>37.9405 </td> <td>99.96              </td> <td>95-100% (highest scores)  </td> <td>Yes                           </td> <td>0.046</td> <td>53.02     </td> <td>12.54</td> <td>84.02     </td> <td>24.117   </td> <td>73.52         </td> <td>278.76        </td> <td>29.11              </td> <td>12.93     </td> <td>60.56          </td> <td>2387.78     </td> <td>69.97            </td> <td>1305.01</td> <td>78.29       </td> <td>50.1         </td> <td>96.1              </td> <td>132.1              </td> <td>98.41                   </td> <td>0.795     </td> <td>84.32          </td> <td>19               </td> <td>98.63                 </td> <td>27         </td> <td>99.1            </td> <td>74.48           </td> <td>9.17                  </td> <td>99.59                </td> <td>142.17</td> <td>98.34      </td> <td>6.23            </td> <td>80.65                </td> <td>14.72                 </td> <td>97.17                      </td> <td>40.8     </td> <td>87.52         </td> <td>15.3                </td> <td>75.14                    </td> <td>61.3   </td> <td>85.57       </td> <td>19.6        </td> <td>94.97            </td> <td>21.1          </td> <td>63.54              </td> <td>86.7       </td> <td>8.99            </td> <td>97.72          </td>\n",
       "        </tr>\n",
       "        <tr>\n",
       "            <td>6019001500  </td> <td>82.03        </td> <td>99.95             </td> <td>95-100% (highest scores)</td> <td>2206            </td> <td>Fresno           </td> <td>14.8</td> <td>72.1</td> <td>13.1</td> <td>71.8</td> <td>21.4</td> <td>1.2 </td> <td>0.5 </td> <td>4.5 </td> <td>0.6 </td> <td>93725</td> <td>Fresno                                           </td> <td>-119.718 </td> <td>36.6816 </td> <td>99.95              </td> <td>95-100% (highest scores)  </td> <td>Yes                           </td> <td>0.065</td> <td>98.18     </td> <td>15.4 </td> <td>97.22     </td> <td>18.846   </td> <td>58.22         </td> <td>1000.24       </td> <td>98.64              </td> <td>3518.41   </td> <td>95.15          </td> <td>21790.7     </td> <td>98.15            </td> <td>435.16 </td> <td>24.3        </td> <td>60           </td> <td>97.15             </td> <td>54.2               </td> <td>92.09                   </td> <td>13.1      </td> <td>99.7           </td> <td>0                </td> <td>0                     </td> <td>50.8       </td> <td>99.91           </td> <td>80.2            </td> <td>9.88                  </td> <td>99.99                </td> <td>90.48 </td> <td>89.54      </td> <td>4.5             </td> <td>38.92                </td> <td>12.82                 </td> <td>92.36                      </td> <td>45.1     </td> <td>91.13         </td> <td>14.7                </td> <td>73.72                    </td> <td>66.4   </td> <td>90.23       </td> <td>18.6        </td> <td>93.65            </td> <td>28.1          </td> <td>83.98              </td> <td>80.08      </td> <td>8.3             </td> <td>92.76          </td>\n",
       "        </tr>\n",
       "        <tr>\n",
       "            <td>6037204920  </td> <td>80.73        </td> <td>99.94             </td> <td>95-100% (highest scores)</td> <td>2598            </td> <td>Los Angeles      </td> <td>15.3</td> <td>74.5</td> <td>10.2</td> <td>98.1</td> <td>1.2 </td> <td>0.1 </td> <td>0.1 </td> <td>0.2 </td> <td>0.3 </td> <td>90023</td> <td>Los Angeles                                      </td> <td>-118.197 </td> <td>34.0175 </td> <td>99.94              </td> <td>95-100% (highest scores)  </td> <td>Yes                           </td> <td>0.046</td> <td>53.02     </td> <td>12.89</td> <td>92.89     </td> <td>56.52    </td> <td>96.98         </td> <td>714.48        </td> <td>83.49              </td> <td>0         </td> <td>0              </td> <td>39040.2     </td> <td>99.3             </td> <td>2943.44</td> <td>97.19       </td> <td>36.7         </td> <td>93.14             </td> <td>25                 </td> <td>77.29                   </td> <td>4.93      </td> <td>96.31          </td> <td>7                </td> <td>71.61                 </td> <td>3.85       </td> <td>65.67           </td> <td>76.73           </td> <td>9.45                  </td> <td>99.88                </td> <td>68.74 </td> <td>77.63      </td> <td>7.35            </td> <td>93.21                </td> <td>10.4                  </td> <td>77.62                      </td> <td>53.1     </td> <td>95.67         </td> <td>23.7                </td> <td>89.15                    </td> <td>66.4   </td> <td>90.23       </td> <td>11.6        </td> <td>67.42            </td> <td>22            </td> <td>67.03              </td> <td>82.36      </td> <td>8.54            </td> <td>94.89          </td>\n",
       "        </tr>\n",
       "        <tr>\n",
       "            <td>6077000300  </td> <td>80.18        </td> <td>99.92             </td> <td>95-100% (highest scores)</td> <td>2396            </td> <td>San Joaquin      </td> <td>16.7</td> <td>69.8</td> <td>13.5</td> <td>51.8</td> <td>16.4</td> <td>16.4</td> <td>1.3 </td> <td>9.9 </td> <td>4.1 </td> <td>95203</td> <td>Stockton                                         </td> <td>-121.302 </td> <td>37.9524 </td> <td>99.92              </td> <td>95-100% (highest scores)  </td> <td>Yes                           </td> <td>0.046</td> <td>53.02     </td> <td>13.44</td> <td>94        </td> <td>21.76    </td> <td>66.48         </td> <td>278.76        </td> <td>29.11              </td> <td>172.49    </td> <td>79.19          </td> <td>707.536     </td> <td>56.11            </td> <td>885.52 </td> <td>61.94       </td> <td>89.7         </td> <td>98.89             </td> <td>149.05             </td> <td>98.74                   </td> <td>0.135     </td> <td>50.68          </td> <td>14               </td> <td>94.41                 </td> <td>2.3        </td> <td>52.98           </td> <td>68.27           </td> <td>8.41                  </td> <td>98.07                </td> <td>169.56</td> <td>99.36      </td> <td>8.36            </td> <td>97.86                </td> <td>12.7                  </td> <td>91.68                      </td> <td>46       </td> <td>91.72         </td> <td>27.1                </td> <td>92.4                     </td> <td>76.2   </td> <td>97.03       </td> <td>14.4        </td> <td>82               </td> <td>24.3          </td> <td>74.73              </td> <td>91.94      </td> <td>9.53            </td> <td>99.65          </td>\n",
       "        </tr>\n",
       "        <tr>\n",
       "            <td>6019001000  </td> <td>80.13        </td> <td>99.91             </td> <td>95-100% (highest scores)</td> <td>4106            </td> <td>Fresno           </td> <td>21  </td> <td>71.3</td> <td>7.7 </td> <td>52.7</td> <td>2.7 </td> <td>28.7</td> <td>0.4 </td> <td>14.3</td> <td>1.2 </td> <td>93706</td> <td>Fresno                                           </td> <td>-119.804 </td> <td>36.6978 </td> <td>99.91              </td> <td>95-100% (highest scores)  </td> <td>Yes                           </td> <td>0.065</td> <td>98.18     </td> <td>15.4 </td> <td>97.22     </td> <td>20.848   </td> <td>64.14         </td> <td>788.02        </td> <td>89.12              </td> <td>1435.93   </td> <td>90.89          </td> <td>6996.96     </td> <td>88.06            </td> <td>243.54 </td> <td>7.97        </td> <td>15.45        </td> <td>77.6              </td> <td>20                 </td> <td>71.07                   </td> <td>0         </td> <td>0              </td> <td>0                </td> <td>0                     </td> <td>10         </td> <td>89.46           </td> <td>66.88           </td> <td>8.24                  </td> <td>97.35                </td> <td>142.28</td> <td>98.42      </td> <td>7.83            </td> <td>95.91                </td> <td>14.96                 </td> <td>97.67                      </td> <td>47.4     </td> <td>92.58         </td> <td>15.8                </td> <td>76.58                    </td> <td>74.5   </td> <td>95.9        </td> <td>20          </td> <td>95.49            </td> <td>31.8          </td> <td>90.72              </td> <td>93.79      </td> <td>9.73            </td> <td>99.91          </td>\n",
       "        </tr>\n",
       "        <tr>\n",
       "            <td>6037206050  </td> <td>79.03        </td> <td>99.9              </td> <td>95-100% (highest scores)</td> <td>2146            </td> <td>Los Angeles      </td> <td>12.4</td> <td>63.2</td> <td>24.4</td> <td>79.3</td> <td>8.9 </td> <td>4.1 </td> <td>0.1 </td> <td>7.2 </td> <td>0.5 </td> <td>90023</td> <td>Los Angeles                                      </td> <td>-118.224 </td> <td>34.0299 </td> <td>99.9               </td> <td>95-100% (highest scores)  </td> <td>Yes                           </td> <td>0.046</td> <td>53.02     </td> <td>12.89</td> <td>92.89     </td> <td>53.958   </td> <td>96.42         </td> <td>664.07        </td> <td>78.57              </td> <td>0         </td> <td>0              </td> <td>10378.2     </td> <td>94.06            </td> <td>2810.82</td> <td>96.63       </td> <td>36.05        </td> <td>92.96             </td> <td>16.25              </td> <td>63.8                    </td> <td>10.025    </td> <td>99.13          </td> <td>7                </td> <td>71.61                 </td> <td>22.1       </td> <td>98.02           </td> <td>77.09           </td> <td>9.5                   </td> <td>99.9                 </td> <td>58.03 </td> <td>66.53      </td> <td>6.71            </td> <td>87.5                 </td> <td>7.24                  </td> <td>40.56                      </td> <td>50.4     </td> <td>94.36         </td> <td>35.7                </td> <td>97.12                    </td> <td>75.7   </td> <td>96.64       </td> <td>28.5        </td> <td>99.51            </td> <td>31.7          </td> <td>90.56              </td> <td>80.25      </td> <td>8.32            </td> <td>92.96          </td>\n",
       "        </tr>\n",
       "        <tr>\n",
       "            <td>6019000400  </td> <td>78.53        </td> <td>99.89             </td> <td>95-100% (highest scores)</td> <td>6343            </td> <td>Fresno           </td> <td>18.3</td> <td>75.8</td> <td>5.9 </td> <td>78  </td> <td>9.1 </td> <td>5.8 </td> <td>0.8 </td> <td>5.3 </td> <td>0.9 </td> <td>93721</td> <td>Fresno                                           </td> <td>-119.776 </td> <td>36.7277 </td> <td>99.89              </td> <td>95-100% (highest scores)  </td> <td>Yes                           </td> <td>0.065</td> <td>98.18     </td> <td>15.4 </td> <td>97.22     </td> <td>54.356   </td> <td>96.74         </td> <td>681.2         </td> <td>80.92              </td> <td>114.96    </td> <td>76.84          </td> <td>125384      </td> <td>99.93            </td> <td>815.36 </td> <td>57.96       </td> <td>15.95        </td> <td>78.24             </td> <td>13.5               </td> <td>57.6                    </td> <td>0.755     </td> <td>83.84          </td> <td>0                </td> <td>0                     </td> <td>0.5        </td> <td>20.49           </td> <td>73.89           </td> <td>9.1                   </td> <td>99.48                </td> <td>107.8 </td> <td>94.23      </td> <td>4.79            </td> <td>46.47                </td> <td>14.75                 </td> <td>97.26                      </td> <td>52.5     </td> <td>95.32         </td> <td>13.7                </td> <td>71.35                    </td> <td>83.4   </td> <td>99.08       </td> <td>23.5        </td> <td>98.27            </td> <td>23.2          </td> <td>71.34              </td> <td>83.2       </td> <td>8.63            </td> <td>95.71          </td>\n",
       "        </tr>\n",
       "    </tbody>\n",
       "</table>\n",
       "<p>... (8025 rows omitted)</p>"
      ],
      "text/plain": [
       "Census Tract | CES 3.0 Score | CES 3.0 Percentile | CES 3.0 Percentile Range | Total Population | California County | 18.8 | 73.6 | 7.6  | 65.3 | 4.2  | 24.6 | 0.5  | 3.5  | 1.8  | ZIP   | Nearby City \n",
       "(to help approximate location only) | Longitude | Latitude |  CES 3.0 Percentile | CES 3.0 \n",
       "Percentile Range | SB 535 Disadvantaged Community | Ozone | Ozone Pctl | PM2.5 | PM2.5 Pctl | Diesel PM | Diesel PM Pctl | Drinking Water | Drinking Water Pctl | Pesticides | Pesticides Pctl | Tox. Release | Tox. Release Pctl | Traffic | Traffic Pctl | Cleanup Sites | Cleanup Sites Pctl | Groundwater Threats | Groundwater Threats Pctl | Haz. Waste | Haz. Waste Pctl | Imp. Water Bodies | Imp. Water Bodies Pctl | Solid Waste | Solid Waste Pctl | Pollution Burden | Pollution Burden Score | Pollution Burden Pctl | Asthma | Asthma Pctl | Low Birth Weight | Low Birth Weight Pctl | Cardiovascular Disease | Cardiovascular Disease Pctl | Education | Education Pctl | Linguistic Isolation | Linguistic Isolation Pctl | Poverty | Poverty Pctl | Unemployment | Unemployment Pctl | Housing Burden | Housing Burden Pctl | Pop. Char.  | Pop. Char. Score | Pop. Char. Pctl\n",
       "6019001100   | 94.09         | 100                | 95-100% (highest scores) | 3174             | Fresno            | 18.8 | 73.6 | 7.6  | 65.3 | 4.2  | 24.6 | 0.5  | 3.5  | 1.8  | 93706 | Fresno                                            | -119.782  | 36.7097  | 100                 | 95-100% (highest scores)   | Yes                            | 0.065 | 98.18      | 15.4  | 97.22      | 48.524    | 95.54          | 681.2          | 80.92               | 2.75       | 47.82           | 18552        | 97.46             | 909.14  | 62.98        | 80.5          | 98.67              | 45.75               | 89.85                    | 0.795      | 84.32           | 0                 | 0                      | 21.75       | 97.81            | 79.96            | 9.85                   | 99.95                 | 131.64 | 97.67       | 7.44             | 93.84                 | 14.13                  | 96.31                       | 53.3      | 95.76          | 16.2                 | 77.51                     | 76.3    | 97.12        | 17.6         | 91.72             | 26             | 79.4                | 92.12       | 9.55             | 99.7\n",
       "6071001600   | 90.68         | 99.99              | 95-100% (highest scores) | 6133             | San Bernardino    | 19.7 | 76.1 | 4.2  | 91.1 | 5.8  | 0.7  | 0.3  | 1.4  | 0.7  | 91761 | Ontario                                           | -117.618  | 34.0578  | 99.99               | 95-100% (highest scores)   | Yes                            | 0.062 | 91.1       | 13.31 | 93.64      | 38.556    | 92.12          | 904.66         | 96.11               | 1.37       | 41.34           | 7494.24      | 89.05             | 782.26  | 55.66        | 66.2          | 97.68              | 36                  | 85.57                    | 1.25       | 88.77           | 5                 | 55.01                  | 12          | 92.17            | 81.19            | 10                     | 100                   | 60.66  | 69.78       | 7.04             | 90.85                 | 12.94                  | 92.66                       | 53.3      | 95.76          | 33.4                 | 96.25                     | 72.5    | 94.63        | 12.3         | 71.82             | 34.1           | 93.75               | 87.44       | 9.07             | 98.11\n",
       "6019000200   | 85.97         | 99.97              | 95-100% (highest scores) | 3167             | Fresno            | 21.5 | 72.5 | 6    | 63.6 | 5.3  | 18.9 | 0.6  | 9.8  | 1.8  | 93706 | Fresno                                            | -119.806  | 36.7355  | 99.97               | 95-100% (highest scores)   | Yes                            | 0.062 | 91.1       | 15.4  | 97.22      | 47.445    | 95.42          | 681.2          | 80.92               | 3.03       | 48.75           | 12454.9      | 95.42             | 576.52  | 39           | 22            | 85.13              | 30.25               | 81.93                    | 0.2        | 60.5            | 0                 | 0                      | 2.5         | 57.18            | 71.16            | 8.76                   | 99                    | 142.12 | 98.33       | 10.16            | 99.78                 | 14.96                  | 97.67                       | 42.3      | 89.06          | 16.7                 | 78.39                     | 86.8    | 99.56        | 16.1         | 87.98             | 40.1           | 97.85               | 94.58       | 9.81             | 99.99\n",
       "6077000801   | 82.49         | 99.96              | 95-100% (highest scores) | 6692             | San Joaquin       | 18.7 | 74.5 | 6.8  | 57.4 | 6    | 12.5 | 0.3  | 20.9 | 2.8  | 95203 | Stockton                                          | -121.315  | 37.9405  | 99.96               | 95-100% (highest scores)   | Yes                            | 0.046 | 53.02      | 12.54 | 84.02      | 24.117    | 73.52          | 278.76         | 29.11               | 12.93      | 60.56           | 2387.78      | 69.97             | 1305.01 | 78.29        | 50.1          | 96.1               | 132.1               | 98.41                    | 0.795      | 84.32           | 19                | 98.63                  | 27          | 99.1             | 74.48            | 9.17                   | 99.59                 | 142.17 | 98.34       | 6.23             | 80.65                 | 14.72                  | 97.17                       | 40.8      | 87.52          | 15.3                 | 75.14                     | 61.3    | 85.57        | 19.6         | 94.97             | 21.1           | 63.54               | 86.7        | 8.99             | 97.72\n",
       "6019001500   | 82.03         | 99.95              | 95-100% (highest scores) | 2206             | Fresno            | 14.8 | 72.1 | 13.1 | 71.8 | 21.4 | 1.2  | 0.5  | 4.5  | 0.6  | 93725 | Fresno                                            | -119.718  | 36.6816  | 99.95               | 95-100% (highest scores)   | Yes                            | 0.065 | 98.18      | 15.4  | 97.22      | 18.846    | 58.22          | 1000.24        | 98.64               | 3518.41    | 95.15           | 21790.7      | 98.15             | 435.16  | 24.3         | 60            | 97.15              | 54.2                | 92.09                    | 13.1       | 99.7            | 0                 | 0                      | 50.8        | 99.91            | 80.2             | 9.88                   | 99.99                 | 90.48  | 89.54       | 4.5              | 38.92                 | 12.82                  | 92.36                       | 45.1      | 91.13          | 14.7                 | 73.72                     | 66.4    | 90.23        | 18.6         | 93.65             | 28.1           | 83.98               | 80.08       | 8.3              | 92.76\n",
       "6037204920   | 80.73         | 99.94              | 95-100% (highest scores) | 2598             | Los Angeles       | 15.3 | 74.5 | 10.2 | 98.1 | 1.2  | 0.1  | 0.1  | 0.2  | 0.3  | 90023 | Los Angeles                                       | -118.197  | 34.0175  | 99.94               | 95-100% (highest scores)   | Yes                            | 0.046 | 53.02      | 12.89 | 92.89      | 56.52     | 96.98          | 714.48         | 83.49               | 0          | 0               | 39040.2      | 99.3              | 2943.44 | 97.19        | 36.7          | 93.14              | 25                  | 77.29                    | 4.93       | 96.31           | 7                 | 71.61                  | 3.85        | 65.67            | 76.73            | 9.45                   | 99.88                 | 68.74  | 77.63       | 7.35             | 93.21                 | 10.4                   | 77.62                       | 53.1      | 95.67          | 23.7                 | 89.15                     | 66.4    | 90.23        | 11.6         | 67.42             | 22             | 67.03               | 82.36       | 8.54             | 94.89\n",
       "6077000300   | 80.18         | 99.92              | 95-100% (highest scores) | 2396             | San Joaquin       | 16.7 | 69.8 | 13.5 | 51.8 | 16.4 | 16.4 | 1.3  | 9.9  | 4.1  | 95203 | Stockton                                          | -121.302  | 37.9524  | 99.92               | 95-100% (highest scores)   | Yes                            | 0.046 | 53.02      | 13.44 | 94         | 21.76     | 66.48          | 278.76         | 29.11               | 172.49     | 79.19           | 707.536      | 56.11             | 885.52  | 61.94        | 89.7          | 98.89              | 149.05              | 98.74                    | 0.135      | 50.68           | 14                | 94.41                  | 2.3         | 52.98            | 68.27            | 8.41                   | 98.07                 | 169.56 | 99.36       | 8.36             | 97.86                 | 12.7                   | 91.68                       | 46        | 91.72          | 27.1                 | 92.4                      | 76.2    | 97.03        | 14.4         | 82                | 24.3           | 74.73               | 91.94       | 9.53             | 99.65\n",
       "6019001000   | 80.13         | 99.91              | 95-100% (highest scores) | 4106             | Fresno            | 21   | 71.3 | 7.7  | 52.7 | 2.7  | 28.7 | 0.4  | 14.3 | 1.2  | 93706 | Fresno                                            | -119.804  | 36.6978  | 99.91               | 95-100% (highest scores)   | Yes                            | 0.065 | 98.18      | 15.4  | 97.22      | 20.848    | 64.14          | 788.02         | 89.12               | 1435.93    | 90.89           | 6996.96      | 88.06             | 243.54  | 7.97         | 15.45         | 77.6               | 20                  | 71.07                    | 0          | 0               | 0                 | 0                      | 10          | 89.46            | 66.88            | 8.24                   | 97.35                 | 142.28 | 98.42       | 7.83             | 95.91                 | 14.96                  | 97.67                       | 47.4      | 92.58          | 15.8                 | 76.58                     | 74.5    | 95.9         | 20           | 95.49             | 31.8           | 90.72               | 93.79       | 9.73             | 99.91\n",
       "6037206050   | 79.03         | 99.9               | 95-100% (highest scores) | 2146             | Los Angeles       | 12.4 | 63.2 | 24.4 | 79.3 | 8.9  | 4.1  | 0.1  | 7.2  | 0.5  | 90023 | Los Angeles                                       | -118.224  | 34.0299  | 99.9                | 95-100% (highest scores)   | Yes                            | 0.046 | 53.02      | 12.89 | 92.89      | 53.958    | 96.42          | 664.07         | 78.57               | 0          | 0               | 10378.2      | 94.06             | 2810.82 | 96.63        | 36.05         | 92.96              | 16.25               | 63.8                     | 10.025     | 99.13           | 7                 | 71.61                  | 22.1        | 98.02            | 77.09            | 9.5                    | 99.9                  | 58.03  | 66.53       | 6.71             | 87.5                  | 7.24                   | 40.56                       | 50.4      | 94.36          | 35.7                 | 97.12                     | 75.7    | 96.64        | 28.5         | 99.51             | 31.7           | 90.56               | 80.25       | 8.32             | 92.96\n",
       "6019000400   | 78.53         | 99.89              | 95-100% (highest scores) | 6343             | Fresno            | 18.3 | 75.8 | 5.9  | 78   | 9.1  | 5.8  | 0.8  | 5.3  | 0.9  | 93721 | Fresno                                            | -119.776  | 36.7277  | 99.89               | 95-100% (highest scores)   | Yes                            | 0.065 | 98.18      | 15.4  | 97.22      | 54.356    | 96.74          | 681.2          | 80.92               | 114.96     | 76.84           | 125384       | 99.93             | 815.36  | 57.96        | 15.95         | 78.24              | 13.5                | 57.6                     | 0.755      | 83.84           | 0                 | 0                      | 0.5         | 20.49            | 73.89            | 9.1                    | 99.48                 | 107.8  | 94.23       | 4.79             | 46.47                 | 14.75                  | 97.26                       | 52.5      | 95.32          | 13.7                 | 71.35                     | 83.4    | 99.08        | 23.5         | 98.27             | 23.2           | 71.34               | 83.2        | 8.63             | 95.71\n",
       "... (8025 rows omitted)"
      ]
     },
     "execution_count": 19,
     "metadata": {},
     "output_type": "execute_result"
    }
   ],
   "source": [
    "Table.read_table(\"ces_data.csv\")"
   ]
  },
  {
   "cell_type": "markdown",
   "metadata": {},
   "source": [
    "That's a lot of information. As you can see from the labels on top, this table shows Biological Sex (0=total, 1=male, 2=female), Age,  2010 Census Information, and predictions for U.S. population for the next five years. "
   ]
  },
  {
   "cell_type": "markdown",
   "metadata": {},
   "source": [
    "## Using Tables\n",
    "\n",
    "We can make criteria to cut down tables. Accessing only the rows, columns, or values specfic to our purpose makes information easier understood. Analysis and conclusions can be made when data is more digestible. \n",
    "\n",
    "We need to access the census table above and name it for further use. We assign the table to a variable so that we can reference it later!"
   ]
  },
  {
   "cell_type": "code",
   "execution_count": 20,
   "metadata": {},
   "outputs": [
    {
     "data": {
      "text/html": [
       "<table border=\"1\" class=\"dataframe\">\n",
       "    <thead>\n",
       "        <tr>\n",
       "            <th>Census Tract</th> <th>CES 3.0 Score</th> <th>CES 3.0 Percentile</th> <th>CES 3.0 Percentile Range</th> <th>Total Population</th> <th>California County</th> <th>18.8</th> <th>73.6</th> <th>7.6</th> <th>65.3</th> <th>4.2</th> <th>24.6</th> <th>0.5</th> <th>3.5</th> <th>1.8</th> <th>ZIP</th> <th>Nearby City \r\n",
       "(to help approximate location only)</th> <th>Longitude</th> <th>Latitude</th> <th> CES 3.0 Percentile</th> <th>CES 3.0 \r\n",
       "Percentile Range</th> <th>SB 535 Disadvantaged Community</th> <th>Ozone</th> <th>Ozone Pctl</th> <th>PM2.5</th> <th>PM2.5 Pctl</th> <th>Diesel PM</th> <th>Diesel PM Pctl</th> <th>Drinking Water</th> <th>Drinking Water Pctl</th> <th>Pesticides</th> <th>Pesticides Pctl</th> <th>Tox. Release</th> <th>Tox. Release Pctl</th> <th>Traffic</th> <th>Traffic Pctl</th> <th>Cleanup Sites</th> <th>Cleanup Sites Pctl</th> <th>Groundwater Threats</th> <th>Groundwater Threats Pctl</th> <th>Haz. Waste</th> <th>Haz. Waste Pctl</th> <th>Imp. Water Bodies</th> <th>Imp. Water Bodies Pctl</th> <th>Solid Waste</th> <th>Solid Waste Pctl</th> <th>Pollution Burden</th> <th>Pollution Burden Score</th> <th>Pollution Burden Pctl</th> <th>Asthma</th> <th>Asthma Pctl</th> <th>Low Birth Weight</th> <th>Low Birth Weight Pctl</th> <th>Cardiovascular Disease</th> <th>Cardiovascular Disease Pctl</th> <th>Education</th> <th>Education Pctl</th> <th>Linguistic Isolation</th> <th>Linguistic Isolation Pctl</th> <th>Poverty</th> <th>Poverty Pctl</th> <th>Unemployment</th> <th>Unemployment Pctl</th> <th>Housing Burden</th> <th>Housing Burden Pctl</th> <th>Pop. Char. </th> <th>Pop. Char. Score</th> <th>Pop. Char. Pctl</th>\n",
       "        </tr>\n",
       "    </thead>\n",
       "    <tbody>\n",
       "        <tr>\n",
       "            <td>6019001100  </td> <td>94.09        </td> <td>100               </td> <td>95-100% (highest scores)</td> <td>3174            </td> <td>Fresno           </td> <td>18.8</td> <td>73.6</td> <td>7.6 </td> <td>65.3</td> <td>4.2 </td> <td>24.6</td> <td>0.5 </td> <td>3.5 </td> <td>1.8 </td> <td>93706</td> <td>Fresno                                           </td> <td>-119.782 </td> <td>36.7097 </td> <td>100                </td> <td>95-100% (highest scores)  </td> <td>Yes                           </td> <td>0.065</td> <td>98.18     </td> <td>15.4 </td> <td>97.22     </td> <td>48.524   </td> <td>95.54         </td> <td>681.2         </td> <td>80.92              </td> <td>2.75      </td> <td>47.82          </td> <td>18552       </td> <td>97.46            </td> <td>909.14 </td> <td>62.98       </td> <td>80.5         </td> <td>98.67             </td> <td>45.75              </td> <td>89.85                   </td> <td>0.795     </td> <td>84.32          </td> <td>0                </td> <td>0                     </td> <td>21.75      </td> <td>97.81           </td> <td>79.96           </td> <td>9.85                  </td> <td>99.95                </td> <td>131.64</td> <td>97.67      </td> <td>7.44            </td> <td>93.84                </td> <td>14.13                 </td> <td>96.31                      </td> <td>53.3     </td> <td>95.76         </td> <td>16.2                </td> <td>77.51                    </td> <td>76.3   </td> <td>97.12       </td> <td>17.6        </td> <td>91.72            </td> <td>26            </td> <td>79.4               </td> <td>92.12      </td> <td>9.55            </td> <td>99.7           </td>\n",
       "        </tr>\n",
       "        <tr>\n",
       "            <td>6071001600  </td> <td>90.68        </td> <td>99.99             </td> <td>95-100% (highest scores)</td> <td>6133            </td> <td>San Bernardino   </td> <td>19.7</td> <td>76.1</td> <td>4.2 </td> <td>91.1</td> <td>5.8 </td> <td>0.7 </td> <td>0.3 </td> <td>1.4 </td> <td>0.7 </td> <td>91761</td> <td>Ontario                                          </td> <td>-117.618 </td> <td>34.0578 </td> <td>99.99              </td> <td>95-100% (highest scores)  </td> <td>Yes                           </td> <td>0.062</td> <td>91.1      </td> <td>13.31</td> <td>93.64     </td> <td>38.556   </td> <td>92.12         </td> <td>904.66        </td> <td>96.11              </td> <td>1.37      </td> <td>41.34          </td> <td>7494.24     </td> <td>89.05            </td> <td>782.26 </td> <td>55.66       </td> <td>66.2         </td> <td>97.68             </td> <td>36                 </td> <td>85.57                   </td> <td>1.25      </td> <td>88.77          </td> <td>5                </td> <td>55.01                 </td> <td>12         </td> <td>92.17           </td> <td>81.19           </td> <td>10                    </td> <td>100                  </td> <td>60.66 </td> <td>69.78      </td> <td>7.04            </td> <td>90.85                </td> <td>12.94                 </td> <td>92.66                      </td> <td>53.3     </td> <td>95.76         </td> <td>33.4                </td> <td>96.25                    </td> <td>72.5   </td> <td>94.63       </td> <td>12.3        </td> <td>71.82            </td> <td>34.1          </td> <td>93.75              </td> <td>87.44      </td> <td>9.07            </td> <td>98.11          </td>\n",
       "        </tr>\n",
       "        <tr>\n",
       "            <td>6019000200  </td> <td>85.97        </td> <td>99.97             </td> <td>95-100% (highest scores)</td> <td>3167            </td> <td>Fresno           </td> <td>21.5</td> <td>72.5</td> <td>6   </td> <td>63.6</td> <td>5.3 </td> <td>18.9</td> <td>0.6 </td> <td>9.8 </td> <td>1.8 </td> <td>93706</td> <td>Fresno                                           </td> <td>-119.806 </td> <td>36.7355 </td> <td>99.97              </td> <td>95-100% (highest scores)  </td> <td>Yes                           </td> <td>0.062</td> <td>91.1      </td> <td>15.4 </td> <td>97.22     </td> <td>47.445   </td> <td>95.42         </td> <td>681.2         </td> <td>80.92              </td> <td>3.03      </td> <td>48.75          </td> <td>12454.9     </td> <td>95.42            </td> <td>576.52 </td> <td>39          </td> <td>22           </td> <td>85.13             </td> <td>30.25              </td> <td>81.93                   </td> <td>0.2       </td> <td>60.5           </td> <td>0                </td> <td>0                     </td> <td>2.5        </td> <td>57.18           </td> <td>71.16           </td> <td>8.76                  </td> <td>99                   </td> <td>142.12</td> <td>98.33      </td> <td>10.16           </td> <td>99.78                </td> <td>14.96                 </td> <td>97.67                      </td> <td>42.3     </td> <td>89.06         </td> <td>16.7                </td> <td>78.39                    </td> <td>86.8   </td> <td>99.56       </td> <td>16.1        </td> <td>87.98            </td> <td>40.1          </td> <td>97.85              </td> <td>94.58      </td> <td>9.81            </td> <td>99.99          </td>\n",
       "        </tr>\n",
       "        <tr>\n",
       "            <td>6077000801  </td> <td>82.49        </td> <td>99.96             </td> <td>95-100% (highest scores)</td> <td>6692            </td> <td>San Joaquin      </td> <td>18.7</td> <td>74.5</td> <td>6.8 </td> <td>57.4</td> <td>6   </td> <td>12.5</td> <td>0.3 </td> <td>20.9</td> <td>2.8 </td> <td>95203</td> <td>Stockton                                         </td> <td>-121.315 </td> <td>37.9405 </td> <td>99.96              </td> <td>95-100% (highest scores)  </td> <td>Yes                           </td> <td>0.046</td> <td>53.02     </td> <td>12.54</td> <td>84.02     </td> <td>24.117   </td> <td>73.52         </td> <td>278.76        </td> <td>29.11              </td> <td>12.93     </td> <td>60.56          </td> <td>2387.78     </td> <td>69.97            </td> <td>1305.01</td> <td>78.29       </td> <td>50.1         </td> <td>96.1              </td> <td>132.1              </td> <td>98.41                   </td> <td>0.795     </td> <td>84.32          </td> <td>19               </td> <td>98.63                 </td> <td>27         </td> <td>99.1            </td> <td>74.48           </td> <td>9.17                  </td> <td>99.59                </td> <td>142.17</td> <td>98.34      </td> <td>6.23            </td> <td>80.65                </td> <td>14.72                 </td> <td>97.17                      </td> <td>40.8     </td> <td>87.52         </td> <td>15.3                </td> <td>75.14                    </td> <td>61.3   </td> <td>85.57       </td> <td>19.6        </td> <td>94.97            </td> <td>21.1          </td> <td>63.54              </td> <td>86.7       </td> <td>8.99            </td> <td>97.72          </td>\n",
       "        </tr>\n",
       "        <tr>\n",
       "            <td>6019001500  </td> <td>82.03        </td> <td>99.95             </td> <td>95-100% (highest scores)</td> <td>2206            </td> <td>Fresno           </td> <td>14.8</td> <td>72.1</td> <td>13.1</td> <td>71.8</td> <td>21.4</td> <td>1.2 </td> <td>0.5 </td> <td>4.5 </td> <td>0.6 </td> <td>93725</td> <td>Fresno                                           </td> <td>-119.718 </td> <td>36.6816 </td> <td>99.95              </td> <td>95-100% (highest scores)  </td> <td>Yes                           </td> <td>0.065</td> <td>98.18     </td> <td>15.4 </td> <td>97.22     </td> <td>18.846   </td> <td>58.22         </td> <td>1000.24       </td> <td>98.64              </td> <td>3518.41   </td> <td>95.15          </td> <td>21790.7     </td> <td>98.15            </td> <td>435.16 </td> <td>24.3        </td> <td>60           </td> <td>97.15             </td> <td>54.2               </td> <td>92.09                   </td> <td>13.1      </td> <td>99.7           </td> <td>0                </td> <td>0                     </td> <td>50.8       </td> <td>99.91           </td> <td>80.2            </td> <td>9.88                  </td> <td>99.99                </td> <td>90.48 </td> <td>89.54      </td> <td>4.5             </td> <td>38.92                </td> <td>12.82                 </td> <td>92.36                      </td> <td>45.1     </td> <td>91.13         </td> <td>14.7                </td> <td>73.72                    </td> <td>66.4   </td> <td>90.23       </td> <td>18.6        </td> <td>93.65            </td> <td>28.1          </td> <td>83.98              </td> <td>80.08      </td> <td>8.3             </td> <td>92.76          </td>\n",
       "        </tr>\n",
       "        <tr>\n",
       "            <td>6037204920  </td> <td>80.73        </td> <td>99.94             </td> <td>95-100% (highest scores)</td> <td>2598            </td> <td>Los Angeles      </td> <td>15.3</td> <td>74.5</td> <td>10.2</td> <td>98.1</td> <td>1.2 </td> <td>0.1 </td> <td>0.1 </td> <td>0.2 </td> <td>0.3 </td> <td>90023</td> <td>Los Angeles                                      </td> <td>-118.197 </td> <td>34.0175 </td> <td>99.94              </td> <td>95-100% (highest scores)  </td> <td>Yes                           </td> <td>0.046</td> <td>53.02     </td> <td>12.89</td> <td>92.89     </td> <td>56.52    </td> <td>96.98         </td> <td>714.48        </td> <td>83.49              </td> <td>0         </td> <td>0              </td> <td>39040.2     </td> <td>99.3             </td> <td>2943.44</td> <td>97.19       </td> <td>36.7         </td> <td>93.14             </td> <td>25                 </td> <td>77.29                   </td> <td>4.93      </td> <td>96.31          </td> <td>7                </td> <td>71.61                 </td> <td>3.85       </td> <td>65.67           </td> <td>76.73           </td> <td>9.45                  </td> <td>99.88                </td> <td>68.74 </td> <td>77.63      </td> <td>7.35            </td> <td>93.21                </td> <td>10.4                  </td> <td>77.62                      </td> <td>53.1     </td> <td>95.67         </td> <td>23.7                </td> <td>89.15                    </td> <td>66.4   </td> <td>90.23       </td> <td>11.6        </td> <td>67.42            </td> <td>22            </td> <td>67.03              </td> <td>82.36      </td> <td>8.54            </td> <td>94.89          </td>\n",
       "        </tr>\n",
       "        <tr>\n",
       "            <td>6077000300  </td> <td>80.18        </td> <td>99.92             </td> <td>95-100% (highest scores)</td> <td>2396            </td> <td>San Joaquin      </td> <td>16.7</td> <td>69.8</td> <td>13.5</td> <td>51.8</td> <td>16.4</td> <td>16.4</td> <td>1.3 </td> <td>9.9 </td> <td>4.1 </td> <td>95203</td> <td>Stockton                                         </td> <td>-121.302 </td> <td>37.9524 </td> <td>99.92              </td> <td>95-100% (highest scores)  </td> <td>Yes                           </td> <td>0.046</td> <td>53.02     </td> <td>13.44</td> <td>94        </td> <td>21.76    </td> <td>66.48         </td> <td>278.76        </td> <td>29.11              </td> <td>172.49    </td> <td>79.19          </td> <td>707.536     </td> <td>56.11            </td> <td>885.52 </td> <td>61.94       </td> <td>89.7         </td> <td>98.89             </td> <td>149.05             </td> <td>98.74                   </td> <td>0.135     </td> <td>50.68          </td> <td>14               </td> <td>94.41                 </td> <td>2.3        </td> <td>52.98           </td> <td>68.27           </td> <td>8.41                  </td> <td>98.07                </td> <td>169.56</td> <td>99.36      </td> <td>8.36            </td> <td>97.86                </td> <td>12.7                  </td> <td>91.68                      </td> <td>46       </td> <td>91.72         </td> <td>27.1                </td> <td>92.4                     </td> <td>76.2   </td> <td>97.03       </td> <td>14.4        </td> <td>82               </td> <td>24.3          </td> <td>74.73              </td> <td>91.94      </td> <td>9.53            </td> <td>99.65          </td>\n",
       "        </tr>\n",
       "        <tr>\n",
       "            <td>6019001000  </td> <td>80.13        </td> <td>99.91             </td> <td>95-100% (highest scores)</td> <td>4106            </td> <td>Fresno           </td> <td>21  </td> <td>71.3</td> <td>7.7 </td> <td>52.7</td> <td>2.7 </td> <td>28.7</td> <td>0.4 </td> <td>14.3</td> <td>1.2 </td> <td>93706</td> <td>Fresno                                           </td> <td>-119.804 </td> <td>36.6978 </td> <td>99.91              </td> <td>95-100% (highest scores)  </td> <td>Yes                           </td> <td>0.065</td> <td>98.18     </td> <td>15.4 </td> <td>97.22     </td> <td>20.848   </td> <td>64.14         </td> <td>788.02        </td> <td>89.12              </td> <td>1435.93   </td> <td>90.89          </td> <td>6996.96     </td> <td>88.06            </td> <td>243.54 </td> <td>7.97        </td> <td>15.45        </td> <td>77.6              </td> <td>20                 </td> <td>71.07                   </td> <td>0         </td> <td>0              </td> <td>0                </td> <td>0                     </td> <td>10         </td> <td>89.46           </td> <td>66.88           </td> <td>8.24                  </td> <td>97.35                </td> <td>142.28</td> <td>98.42      </td> <td>7.83            </td> <td>95.91                </td> <td>14.96                 </td> <td>97.67                      </td> <td>47.4     </td> <td>92.58         </td> <td>15.8                </td> <td>76.58                    </td> <td>74.5   </td> <td>95.9        </td> <td>20          </td> <td>95.49            </td> <td>31.8          </td> <td>90.72              </td> <td>93.79      </td> <td>9.73            </td> <td>99.91          </td>\n",
       "        </tr>\n",
       "        <tr>\n",
       "            <td>6037206050  </td> <td>79.03        </td> <td>99.9              </td> <td>95-100% (highest scores)</td> <td>2146            </td> <td>Los Angeles      </td> <td>12.4</td> <td>63.2</td> <td>24.4</td> <td>79.3</td> <td>8.9 </td> <td>4.1 </td> <td>0.1 </td> <td>7.2 </td> <td>0.5 </td> <td>90023</td> <td>Los Angeles                                      </td> <td>-118.224 </td> <td>34.0299 </td> <td>99.9               </td> <td>95-100% (highest scores)  </td> <td>Yes                           </td> <td>0.046</td> <td>53.02     </td> <td>12.89</td> <td>92.89     </td> <td>53.958   </td> <td>96.42         </td> <td>664.07        </td> <td>78.57              </td> <td>0         </td> <td>0              </td> <td>10378.2     </td> <td>94.06            </td> <td>2810.82</td> <td>96.63       </td> <td>36.05        </td> <td>92.96             </td> <td>16.25              </td> <td>63.8                    </td> <td>10.025    </td> <td>99.13          </td> <td>7                </td> <td>71.61                 </td> <td>22.1       </td> <td>98.02           </td> <td>77.09           </td> <td>9.5                   </td> <td>99.9                 </td> <td>58.03 </td> <td>66.53      </td> <td>6.71            </td> <td>87.5                 </td> <td>7.24                  </td> <td>40.56                      </td> <td>50.4     </td> <td>94.36         </td> <td>35.7                </td> <td>97.12                    </td> <td>75.7   </td> <td>96.64       </td> <td>28.5        </td> <td>99.51            </td> <td>31.7          </td> <td>90.56              </td> <td>80.25      </td> <td>8.32            </td> <td>92.96          </td>\n",
       "        </tr>\n",
       "        <tr>\n",
       "            <td>6019000400  </td> <td>78.53        </td> <td>99.89             </td> <td>95-100% (highest scores)</td> <td>6343            </td> <td>Fresno           </td> <td>18.3</td> <td>75.8</td> <td>5.9 </td> <td>78  </td> <td>9.1 </td> <td>5.8 </td> <td>0.8 </td> <td>5.3 </td> <td>0.9 </td> <td>93721</td> <td>Fresno                                           </td> <td>-119.776 </td> <td>36.7277 </td> <td>99.89              </td> <td>95-100% (highest scores)  </td> <td>Yes                           </td> <td>0.065</td> <td>98.18     </td> <td>15.4 </td> <td>97.22     </td> <td>54.356   </td> <td>96.74         </td> <td>681.2         </td> <td>80.92              </td> <td>114.96    </td> <td>76.84          </td> <td>125384      </td> <td>99.93            </td> <td>815.36 </td> <td>57.96       </td> <td>15.95        </td> <td>78.24             </td> <td>13.5               </td> <td>57.6                    </td> <td>0.755     </td> <td>83.84          </td> <td>0                </td> <td>0                     </td> <td>0.5        </td> <td>20.49           </td> <td>73.89           </td> <td>9.1                   </td> <td>99.48                </td> <td>107.8 </td> <td>94.23      </td> <td>4.79            </td> <td>46.47                </td> <td>14.75                 </td> <td>97.26                      </td> <td>52.5     </td> <td>95.32         </td> <td>13.7                </td> <td>71.35                    </td> <td>83.4   </td> <td>99.08       </td> <td>23.5        </td> <td>98.27            </td> <td>23.2          </td> <td>71.34              </td> <td>83.2       </td> <td>8.63            </td> <td>95.71          </td>\n",
       "        </tr>\n",
       "    </tbody>\n",
       "</table>\n",
       "<p>... (8025 rows omitted)</p>"
      ],
      "text/plain": [
       "Census Tract | CES 3.0 Score | CES 3.0 Percentile | CES 3.0 Percentile Range | Total Population | California County | 18.8 | 73.6 | 7.6  | 65.3 | 4.2  | 24.6 | 0.5  | 3.5  | 1.8  | ZIP   | Nearby City \n",
       "(to help approximate location only) | Longitude | Latitude |  CES 3.0 Percentile | CES 3.0 \n",
       "Percentile Range | SB 535 Disadvantaged Community | Ozone | Ozone Pctl | PM2.5 | PM2.5 Pctl | Diesel PM | Diesel PM Pctl | Drinking Water | Drinking Water Pctl | Pesticides | Pesticides Pctl | Tox. Release | Tox. Release Pctl | Traffic | Traffic Pctl | Cleanup Sites | Cleanup Sites Pctl | Groundwater Threats | Groundwater Threats Pctl | Haz. Waste | Haz. Waste Pctl | Imp. Water Bodies | Imp. Water Bodies Pctl | Solid Waste | Solid Waste Pctl | Pollution Burden | Pollution Burden Score | Pollution Burden Pctl | Asthma | Asthma Pctl | Low Birth Weight | Low Birth Weight Pctl | Cardiovascular Disease | Cardiovascular Disease Pctl | Education | Education Pctl | Linguistic Isolation | Linguistic Isolation Pctl | Poverty | Poverty Pctl | Unemployment | Unemployment Pctl | Housing Burden | Housing Burden Pctl | Pop. Char.  | Pop. Char. Score | Pop. Char. Pctl\n",
       "6019001100   | 94.09         | 100                | 95-100% (highest scores) | 3174             | Fresno            | 18.8 | 73.6 | 7.6  | 65.3 | 4.2  | 24.6 | 0.5  | 3.5  | 1.8  | 93706 | Fresno                                            | -119.782  | 36.7097  | 100                 | 95-100% (highest scores)   | Yes                            | 0.065 | 98.18      | 15.4  | 97.22      | 48.524    | 95.54          | 681.2          | 80.92               | 2.75       | 47.82           | 18552        | 97.46             | 909.14  | 62.98        | 80.5          | 98.67              | 45.75               | 89.85                    | 0.795      | 84.32           | 0                 | 0                      | 21.75       | 97.81            | 79.96            | 9.85                   | 99.95                 | 131.64 | 97.67       | 7.44             | 93.84                 | 14.13                  | 96.31                       | 53.3      | 95.76          | 16.2                 | 77.51                     | 76.3    | 97.12        | 17.6         | 91.72             | 26             | 79.4                | 92.12       | 9.55             | 99.7\n",
       "6071001600   | 90.68         | 99.99              | 95-100% (highest scores) | 6133             | San Bernardino    | 19.7 | 76.1 | 4.2  | 91.1 | 5.8  | 0.7  | 0.3  | 1.4  | 0.7  | 91761 | Ontario                                           | -117.618  | 34.0578  | 99.99               | 95-100% (highest scores)   | Yes                            | 0.062 | 91.1       | 13.31 | 93.64      | 38.556    | 92.12          | 904.66         | 96.11               | 1.37       | 41.34           | 7494.24      | 89.05             | 782.26  | 55.66        | 66.2          | 97.68              | 36                  | 85.57                    | 1.25       | 88.77           | 5                 | 55.01                  | 12          | 92.17            | 81.19            | 10                     | 100                   | 60.66  | 69.78       | 7.04             | 90.85                 | 12.94                  | 92.66                       | 53.3      | 95.76          | 33.4                 | 96.25                     | 72.5    | 94.63        | 12.3         | 71.82             | 34.1           | 93.75               | 87.44       | 9.07             | 98.11\n",
       "6019000200   | 85.97         | 99.97              | 95-100% (highest scores) | 3167             | Fresno            | 21.5 | 72.5 | 6    | 63.6 | 5.3  | 18.9 | 0.6  | 9.8  | 1.8  | 93706 | Fresno                                            | -119.806  | 36.7355  | 99.97               | 95-100% (highest scores)   | Yes                            | 0.062 | 91.1       | 15.4  | 97.22      | 47.445    | 95.42          | 681.2          | 80.92               | 3.03       | 48.75           | 12454.9      | 95.42             | 576.52  | 39           | 22            | 85.13              | 30.25               | 81.93                    | 0.2        | 60.5            | 0                 | 0                      | 2.5         | 57.18            | 71.16            | 8.76                   | 99                    | 142.12 | 98.33       | 10.16            | 99.78                 | 14.96                  | 97.67                       | 42.3      | 89.06          | 16.7                 | 78.39                     | 86.8    | 99.56        | 16.1         | 87.98             | 40.1           | 97.85               | 94.58       | 9.81             | 99.99\n",
       "6077000801   | 82.49         | 99.96              | 95-100% (highest scores) | 6692             | San Joaquin       | 18.7 | 74.5 | 6.8  | 57.4 | 6    | 12.5 | 0.3  | 20.9 | 2.8  | 95203 | Stockton                                          | -121.315  | 37.9405  | 99.96               | 95-100% (highest scores)   | Yes                            | 0.046 | 53.02      | 12.54 | 84.02      | 24.117    | 73.52          | 278.76         | 29.11               | 12.93      | 60.56           | 2387.78      | 69.97             | 1305.01 | 78.29        | 50.1          | 96.1               | 132.1               | 98.41                    | 0.795      | 84.32           | 19                | 98.63                  | 27          | 99.1             | 74.48            | 9.17                   | 99.59                 | 142.17 | 98.34       | 6.23             | 80.65                 | 14.72                  | 97.17                       | 40.8      | 87.52          | 15.3                 | 75.14                     | 61.3    | 85.57        | 19.6         | 94.97             | 21.1           | 63.54               | 86.7        | 8.99             | 97.72\n",
       "6019001500   | 82.03         | 99.95              | 95-100% (highest scores) | 2206             | Fresno            | 14.8 | 72.1 | 13.1 | 71.8 | 21.4 | 1.2  | 0.5  | 4.5  | 0.6  | 93725 | Fresno                                            | -119.718  | 36.6816  | 99.95               | 95-100% (highest scores)   | Yes                            | 0.065 | 98.18      | 15.4  | 97.22      | 18.846    | 58.22          | 1000.24        | 98.64               | 3518.41    | 95.15           | 21790.7      | 98.15             | 435.16  | 24.3         | 60            | 97.15              | 54.2                | 92.09                    | 13.1       | 99.7            | 0                 | 0                      | 50.8        | 99.91            | 80.2             | 9.88                   | 99.99                 | 90.48  | 89.54       | 4.5              | 38.92                 | 12.82                  | 92.36                       | 45.1      | 91.13          | 14.7                 | 73.72                     | 66.4    | 90.23        | 18.6         | 93.65             | 28.1           | 83.98               | 80.08       | 8.3              | 92.76\n",
       "6037204920   | 80.73         | 99.94              | 95-100% (highest scores) | 2598             | Los Angeles       | 15.3 | 74.5 | 10.2 | 98.1 | 1.2  | 0.1  | 0.1  | 0.2  | 0.3  | 90023 | Los Angeles                                       | -118.197  | 34.0175  | 99.94               | 95-100% (highest scores)   | Yes                            | 0.046 | 53.02      | 12.89 | 92.89      | 56.52     | 96.98          | 714.48         | 83.49               | 0          | 0               | 39040.2      | 99.3              | 2943.44 | 97.19        | 36.7          | 93.14              | 25                  | 77.29                    | 4.93       | 96.31           | 7                 | 71.61                  | 3.85        | 65.67            | 76.73            | 9.45                   | 99.88                 | 68.74  | 77.63       | 7.35             | 93.21                 | 10.4                   | 77.62                       | 53.1      | 95.67          | 23.7                 | 89.15                     | 66.4    | 90.23        | 11.6         | 67.42             | 22             | 67.03               | 82.36       | 8.54             | 94.89\n",
       "6077000300   | 80.18         | 99.92              | 95-100% (highest scores) | 2396             | San Joaquin       | 16.7 | 69.8 | 13.5 | 51.8 | 16.4 | 16.4 | 1.3  | 9.9  | 4.1  | 95203 | Stockton                                          | -121.302  | 37.9524  | 99.92               | 95-100% (highest scores)   | Yes                            | 0.046 | 53.02      | 13.44 | 94         | 21.76     | 66.48          | 278.76         | 29.11               | 172.49     | 79.19           | 707.536      | 56.11             | 885.52  | 61.94        | 89.7          | 98.89              | 149.05              | 98.74                    | 0.135      | 50.68           | 14                | 94.41                  | 2.3         | 52.98            | 68.27            | 8.41                   | 98.07                 | 169.56 | 99.36       | 8.36             | 97.86                 | 12.7                   | 91.68                       | 46        | 91.72          | 27.1                 | 92.4                      | 76.2    | 97.03        | 14.4         | 82                | 24.3           | 74.73               | 91.94       | 9.53             | 99.65\n",
       "6019001000   | 80.13         | 99.91              | 95-100% (highest scores) | 4106             | Fresno            | 21   | 71.3 | 7.7  | 52.7 | 2.7  | 28.7 | 0.4  | 14.3 | 1.2  | 93706 | Fresno                                            | -119.804  | 36.6978  | 99.91               | 95-100% (highest scores)   | Yes                            | 0.065 | 98.18      | 15.4  | 97.22      | 20.848    | 64.14          | 788.02         | 89.12               | 1435.93    | 90.89           | 6996.96      | 88.06             | 243.54  | 7.97         | 15.45         | 77.6               | 20                  | 71.07                    | 0          | 0               | 0                 | 0                      | 10          | 89.46            | 66.88            | 8.24                   | 97.35                 | 142.28 | 98.42       | 7.83             | 95.91                 | 14.96                  | 97.67                       | 47.4      | 92.58          | 15.8                 | 76.58                     | 74.5    | 95.9         | 20           | 95.49             | 31.8           | 90.72               | 93.79       | 9.73             | 99.91\n",
       "6037206050   | 79.03         | 99.9               | 95-100% (highest scores) | 2146             | Los Angeles       | 12.4 | 63.2 | 24.4 | 79.3 | 8.9  | 4.1  | 0.1  | 7.2  | 0.5  | 90023 | Los Angeles                                       | -118.224  | 34.0299  | 99.9                | 95-100% (highest scores)   | Yes                            | 0.046 | 53.02      | 12.89 | 92.89      | 53.958    | 96.42          | 664.07         | 78.57               | 0          | 0               | 10378.2      | 94.06             | 2810.82 | 96.63        | 36.05         | 92.96              | 16.25               | 63.8                     | 10.025     | 99.13           | 7                 | 71.61                  | 22.1        | 98.02            | 77.09            | 9.5                    | 99.9                  | 58.03  | 66.53       | 6.71             | 87.5                  | 7.24                   | 40.56                       | 50.4      | 94.36          | 35.7                 | 97.12                     | 75.7    | 96.64        | 28.5         | 99.51             | 31.7           | 90.56               | 80.25       | 8.32             | 92.96\n",
       "6019000400   | 78.53         | 99.89              | 95-100% (highest scores) | 6343             | Fresno            | 18.3 | 75.8 | 5.9  | 78   | 9.1  | 5.8  | 0.8  | 5.3  | 0.9  | 93721 | Fresno                                            | -119.776  | 36.7277  | 99.89               | 95-100% (highest scores)   | Yes                            | 0.065 | 98.18      | 15.4  | 97.22      | 54.356    | 96.74          | 681.2          | 80.92               | 114.96     | 76.84           | 125384       | 99.93             | 815.36  | 57.96        | 15.95         | 78.24              | 13.5                | 57.6                     | 0.755      | 83.84           | 0                 | 0                      | 0.5         | 20.49            | 73.89            | 9.1                    | 99.48                 | 107.8  | 94.23       | 4.79             | 46.47                 | 14.75                  | 97.26                       | 52.5      | 95.32          | 13.7                 | 71.35                     | 83.4    | 99.08        | 23.5         | 98.27             | 23.2           | 71.34               | 83.2        | 8.63             | 95.71\n",
       "... (8025 rows omitted)"
      ]
     },
     "execution_count": 20,
     "metadata": {},
     "output_type": "execute_result"
    }
   ],
   "source": [
    "census_data = Table.read_table(\"ces_data.csv\")\n",
    "census_data"
   ]
  },
  {
   "cell_type": "markdown",
   "metadata": {},
   "source": [
    "This notebook can calculate how large this table is with two functions: num_rows and num_columns. The general form for these functions are table.num_rows and table.num_columns. \n",
    "\n",
    "Let's use these on the table above. "
   ]
  },
  {
   "cell_type": "code",
   "execution_count": 21,
   "metadata": {},
   "outputs": [
    {
     "data": {
      "text/plain": [
       "8035"
      ]
     },
     "execution_count": 21,
     "metadata": {},
     "output_type": "execute_result"
    }
   ],
   "source": [
    "census_data.num_rows"
   ]
  },
  {
   "cell_type": "code",
   "execution_count": 22,
   "metadata": {},
   "outputs": [
    {
     "data": {
      "text/plain": [
       "68"
      ]
     },
     "execution_count": 22,
     "metadata": {},
     "output_type": "execute_result"
    }
   ],
   "source": [
    "census_data.num_columns"
   ]
  },
  {
   "cell_type": "markdown",
   "metadata": {},
   "source": [
    "That's a 8035 x 65 table! We can first start to cut down this table using only some columns. Let's only include biological sex, age and the estimated base for 2010 census data. \n",
    "\n",
    "There are two methods to make a table with select columns included. We could either use the 'select' function or the 'drop' function. \n",
    "\n",
    "- `select` can create a new table with only the columns indicated in the parameters \n",
    "- `drop` can create a new table with columns NOT indicated in the parameters\n",
    "\n",
    "\n",
    "Here's an example of two equal codes: (keep in mind that we assign each new table to a new variable, to make organization easier). "
   ]
  },
  {
   "cell_type": "code",
   "execution_count": 13,
   "metadata": {},
   "outputs": [
    {
     "data": {
      "text/html": [
       "<table border=\"1\" class=\"dataframe\">\n",
       "    <thead>\n",
       "        <tr>\n",
       "            <th>Cardiovascular Disease</th> <th>California County</th>\n",
       "        </tr>\n",
       "    </thead>\n",
       "    <tbody>\n",
       "        <tr>\n",
       "            <td>14.13                 </td> <td>Fresno           </td>\n",
       "        </tr>\n",
       "        <tr>\n",
       "            <td>12.94                 </td> <td>San Bernardino   </td>\n",
       "        </tr>\n",
       "        <tr>\n",
       "            <td>14.96                 </td> <td>Fresno           </td>\n",
       "        </tr>\n",
       "        <tr>\n",
       "            <td>14.72                 </td> <td>San Joaquin      </td>\n",
       "        </tr>\n",
       "        <tr>\n",
       "            <td>12.82                 </td> <td>Fresno           </td>\n",
       "        </tr>\n",
       "        <tr>\n",
       "            <td>10.4                  </td> <td>Los Angeles      </td>\n",
       "        </tr>\n",
       "        <tr>\n",
       "            <td>12.7                  </td> <td>San Joaquin      </td>\n",
       "        </tr>\n",
       "        <tr>\n",
       "            <td>14.96                 </td> <td>Fresno           </td>\n",
       "        </tr>\n",
       "        <tr>\n",
       "            <td>7.24                  </td> <td>Los Angeles      </td>\n",
       "        </tr>\n",
       "        <tr>\n",
       "            <td>14.75                 </td> <td>Fresno           </td>\n",
       "        </tr>\n",
       "    </tbody>\n",
       "</table>\n",
       "<p>... (8025 rows omitted)</p>"
      ],
      "text/plain": [
       "Cardiovascular Disease | California County\n",
       "14.13                  | Fresno\n",
       "12.94                  | San Bernardino\n",
       "14.96                  | Fresno\n",
       "14.72                  | San Joaquin\n",
       "12.82                  | Fresno\n",
       "10.4                   | Los Angeles\n",
       "12.7                   | San Joaquin\n",
       "14.96                  | Fresno\n",
       "7.24                   | Los Angeles\n",
       "14.75                  | Fresno\n",
       "... (8025 rows omitted)"
      ]
     },
     "execution_count": 13,
     "metadata": {},
     "output_type": "execute_result"
    }
   ],
   "source": [
    "select_census_data = census_data.select(\"Cardiovascular Disease\", \"California County\")\n",
    "select_census_data"
   ]
  },
  {
   "cell_type": "code",
   "execution_count": 37,
   "metadata": {},
   "outputs": [
    {
     "data": {
      "text/html": [
       "<table border=\"1\" class=\"dataframe\">\n",
       "    <thead>\n",
       "        <tr>\n",
       "            <th>SEX</th> <th>AGE</th> <th>ESTIMATESBASE2010</th>\n",
       "        </tr>\n",
       "    </thead>\n",
       "    <tbody>\n",
       "        <tr>\n",
       "            <td>0   </td> <td>0   </td> <td>3944160          </td>\n",
       "        </tr>\n",
       "        <tr>\n",
       "            <td>0   </td> <td>1   </td> <td>3978090          </td>\n",
       "        </tr>\n",
       "        <tr>\n",
       "            <td>0   </td> <td>2   </td> <td>4096939          </td>\n",
       "        </tr>\n",
       "        <tr>\n",
       "            <td>0   </td> <td>3   </td> <td>4119051          </td>\n",
       "        </tr>\n",
       "        <tr>\n",
       "            <td>0   </td> <td>4   </td> <td>4063186          </td>\n",
       "        </tr>\n",
       "        <tr>\n",
       "            <td>0   </td> <td>5   </td> <td>4056872          </td>\n",
       "        </tr>\n",
       "        <tr>\n",
       "            <td>0   </td> <td>6   </td> <td>4066412          </td>\n",
       "        </tr>\n",
       "        <tr>\n",
       "            <td>0   </td> <td>7   </td> <td>4030594          </td>\n",
       "        </tr>\n",
       "        <tr>\n",
       "            <td>0   </td> <td>8   </td> <td>4046497          </td>\n",
       "        </tr>\n",
       "        <tr>\n",
       "            <td>0   </td> <td>9   </td> <td>4148369          </td>\n",
       "        </tr>\n",
       "    </tbody>\n",
       "</table>\n",
       "<p>... (296 rows omitted)</p>"
      ],
      "text/plain": [
       "SEX  | AGE  | ESTIMATESBASE2010\n",
       "0    | 0    | 3944160\n",
       "0    | 1    | 3978090\n",
       "0    | 2    | 4096939\n",
       "0    | 3    | 4119051\n",
       "0    | 4    | 4063186\n",
       "0    | 5    | 4056872\n",
       "0    | 6    | 4066412\n",
       "0    | 7    | 4030594\n",
       "0    | 8    | 4046497\n",
       "0    | 9    | 4148369\n",
       "... (296 rows omitted)"
      ]
     },
     "execution_count": 37,
     "metadata": {},
     "output_type": "execute_result"
    }
   ],
   "source": [
    "drop_census_data = census_data.drop(\"CENSUS2010POP\",\"POPESTIMATE2010\",\"POPESTIMATE2011\",\"POPESTIMATE2012\",\"POPESTIMATE2013\",\"POPESTIMATE2014\",\"POPESTIMATE2015\")\n",
    "drop_census_data"
   ]
  },
  {
   "cell_type": "markdown",
   "metadata": {},
   "source": [
    "As you can see underneath the table, there are still 296 rows omitted! Our next step is to only include non-gendered data AKA data where SEX=0, neither male or female specific. \n",
    "\n",
    "To do this, we need to use a new function `where`. The general form of this function is:\n",
    "\n",
    "```python\n",
    "table_name.where(column_name, predicate)\n",
    "```\n",
    "\n",
    "To cut our table down to only include `sex=0`, we may use the predicate `are.equal_to()`. Note that we are assigning the new table to a new variable. We are referencing the table stored in an older variable (`select_census_data`), and modifying it. That modification is what is stored in the new variable. "
   ]
  },
  {
   "cell_type": "code",
   "execution_count": 38,
   "metadata": {},
   "outputs": [
    {
     "data": {
      "text/html": [
       "<table border=\"1\" class=\"dataframe\">\n",
       "    <thead>\n",
       "        <tr>\n",
       "            <th>SEX</th> <th>AGE</th> <th>ESTIMATESBASE2010</th>\n",
       "        </tr>\n",
       "    </thead>\n",
       "    <tbody>\n",
       "        <tr>\n",
       "            <td>0   </td> <td>0   </td> <td>3944160          </td>\n",
       "        </tr>\n",
       "        <tr>\n",
       "            <td>0   </td> <td>1   </td> <td>3978090          </td>\n",
       "        </tr>\n",
       "        <tr>\n",
       "            <td>0   </td> <td>2   </td> <td>4096939          </td>\n",
       "        </tr>\n",
       "        <tr>\n",
       "            <td>0   </td> <td>3   </td> <td>4119051          </td>\n",
       "        </tr>\n",
       "        <tr>\n",
       "            <td>0   </td> <td>4   </td> <td>4063186          </td>\n",
       "        </tr>\n",
       "        <tr>\n",
       "            <td>0   </td> <td>5   </td> <td>4056872          </td>\n",
       "        </tr>\n",
       "        <tr>\n",
       "            <td>0   </td> <td>6   </td> <td>4066412          </td>\n",
       "        </tr>\n",
       "        <tr>\n",
       "            <td>0   </td> <td>7   </td> <td>4030594          </td>\n",
       "        </tr>\n",
       "        <tr>\n",
       "            <td>0   </td> <td>8   </td> <td>4046497          </td>\n",
       "        </tr>\n",
       "        <tr>\n",
       "            <td>0   </td> <td>9   </td> <td>4148369          </td>\n",
       "        </tr>\n",
       "    </tbody>\n",
       "</table>\n",
       "<p>... (92 rows omitted)</p>"
      ],
      "text/plain": [
       "SEX  | AGE  | ESTIMATESBASE2010\n",
       "0    | 0    | 3944160\n",
       "0    | 1    | 3978090\n",
       "0    | 2    | 4096939\n",
       "0    | 3    | 4119051\n",
       "0    | 4    | 4063186\n",
       "0    | 5    | 4056872\n",
       "0    | 6    | 4066412\n",
       "0    | 7    | 4030594\n",
       "0    | 8    | 4046497\n",
       "0    | 9    | 4148369\n",
       "... (92 rows omitted)"
      ]
     },
     "execution_count": 38,
     "metadata": {},
     "output_type": "execute_result"
    }
   ],
   "source": [
    "new_census_data = select_census_data.where(\"SEX\", are.equal_to(0))\n",
    "new_census_data"
   ]
  },
  {
   "cell_type": "markdown",
   "metadata": {},
   "source": [
    "There are still 92 rows omitted! Let's take every 10th entry to cut this table down a little more. \n",
    "\n",
    "To do this we need to use the `take` function. The `take` function creates a new table with rows from the original table whose indices(row number) are given. In Python, indices start at 0! \n",
    "\n",
    "Here's taking every 10th entry. Inside of the take parentheses is a Python list of numbers from 0 to 90, increasing by 10s. This indicates exactly which rows we want to keep (every 10th row)."
   ]
  },
  {
   "cell_type": "code",
   "execution_count": 39,
   "metadata": {},
   "outputs": [
    {
     "data": {
      "text/html": [
       "<table border=\"1\" class=\"dataframe\">\n",
       "    <thead>\n",
       "        <tr>\n",
       "            <th>SEX</th> <th>AGE</th> <th>ESTIMATESBASE2010</th>\n",
       "        </tr>\n",
       "    </thead>\n",
       "    <tbody>\n",
       "        <tr>\n",
       "            <td>0   </td> <td>0   </td> <td>3944160          </td>\n",
       "        </tr>\n",
       "        <tr>\n",
       "            <td>0   </td> <td>10  </td> <td>4172559          </td>\n",
       "        </tr>\n",
       "        <tr>\n",
       "            <td>0   </td> <td>20  </td> <td>4519556          </td>\n",
       "        </tr>\n",
       "        <tr>\n",
       "            <td>0   </td> <td>30  </td> <td>4285877          </td>\n",
       "        </tr>\n",
       "        <tr>\n",
       "            <td>0   </td> <td>40  </td> <td>4383450          </td>\n",
       "        </tr>\n",
       "        <tr>\n",
       "            <td>0   </td> <td>50  </td> <td>4660457          </td>\n",
       "        </tr>\n",
       "        <tr>\n",
       "            <td>0   </td> <td>60  </td> <td>3621214          </td>\n",
       "        </tr>\n",
       "        <tr>\n",
       "            <td>0   </td> <td>70  </td> <td>2043178          </td>\n",
       "        </tr>\n",
       "        <tr>\n",
       "            <td>0   </td> <td>80  </td> <td>1308608          </td>\n",
       "        </tr>\n",
       "        <tr>\n",
       "            <td>0   </td> <td>90  </td> <td>435695           </td>\n",
       "        </tr>\n",
       "    </tbody>\n",
       "</table>"
      ],
      "text/plain": [
       "SEX  | AGE  | ESTIMATESBASE2010\n",
       "0    | 0    | 3944160\n",
       "0    | 10   | 4172559\n",
       "0    | 20   | 4519556\n",
       "0    | 30   | 4285877\n",
       "0    | 40   | 4383450\n",
       "0    | 50   | 4660457\n",
       "0    | 60   | 3621214\n",
       "0    | 70   | 2043178\n",
       "0    | 80   | 1308608\n",
       "0    | 90   | 435695"
      ]
     },
     "execution_count": 39,
     "metadata": {},
     "output_type": "execute_result"
    }
   ],
   "source": [
    "census_10_year = new_census_data.take([0,10,20,30,40,50,60,70,80,90])\n",
    "census_10_year"
   ]
  },
  {
   "cell_type": "markdown",
   "metadata": {},
   "source": [
    "Now that sex is all the same, we can drop that column. "
   ]
  },
  {
   "cell_type": "code",
   "execution_count": 40,
   "metadata": {},
   "outputs": [
    {
     "data": {
      "text/html": [
       "<table border=\"1\" class=\"dataframe\">\n",
       "    <thead>\n",
       "        <tr>\n",
       "            <th>AGE</th> <th>ESTIMATESBASE2010</th>\n",
       "        </tr>\n",
       "    </thead>\n",
       "    <tbody>\n",
       "        <tr>\n",
       "            <td>0   </td> <td>3944160          </td>\n",
       "        </tr>\n",
       "        <tr>\n",
       "            <td>10  </td> <td>4172559          </td>\n",
       "        </tr>\n",
       "        <tr>\n",
       "            <td>20  </td> <td>4519556          </td>\n",
       "        </tr>\n",
       "        <tr>\n",
       "            <td>30  </td> <td>4285877          </td>\n",
       "        </tr>\n",
       "        <tr>\n",
       "            <td>40  </td> <td>4383450          </td>\n",
       "        </tr>\n",
       "        <tr>\n",
       "            <td>50  </td> <td>4660457          </td>\n",
       "        </tr>\n",
       "        <tr>\n",
       "            <td>60  </td> <td>3621214          </td>\n",
       "        </tr>\n",
       "        <tr>\n",
       "            <td>70  </td> <td>2043178          </td>\n",
       "        </tr>\n",
       "        <tr>\n",
       "            <td>80  </td> <td>1308608          </td>\n",
       "        </tr>\n",
       "        <tr>\n",
       "            <td>90  </td> <td>435695           </td>\n",
       "        </tr>\n",
       "    </tbody>\n",
       "</table>"
      ],
      "text/plain": [
       "AGE  | ESTIMATESBASE2010\n",
       "0    | 3944160\n",
       "10   | 4172559\n",
       "20   | 4519556\n",
       "30   | 4285877\n",
       "40   | 4383450\n",
       "50   | 4660457\n",
       "60   | 3621214\n",
       "70   | 2043178\n",
       "80   | 1308608\n",
       "90   | 435695"
      ]
     },
     "execution_count": 40,
     "metadata": {},
     "output_type": "execute_result"
    }
   ],
   "source": [
    "final_census_table = census_10_year.drop(\"SEX\")\n",
    "final_census_table"
   ]
  },
  {
   "cell_type": "markdown",
   "metadata": {},
   "source": [
    "---\n",
    "\n",
    "### Tables Essentials!\n",
    "\n",
    "For your reference, here's a table of useful `Table` functions:\n",
    "\n",
    "|Name|Example|Purpose|\n",
    "|-|-|-|\n",
    "|`Table`|`Table()`|Create an empty table, usually to extend with data|\n",
    "|`Table.read_table`|`Table.read_table(\"my_data.csv\")`|Create a table from a data file|\n",
    "|`with_columns`|`tbl = Table().with_columns(\"N\", np.arange(5), \"2*N\", np.arange(0, 10, 2))`|Create a copy of a table with more columns|\n",
    "|`column`|`tbl.column(\"N\")`|Create an array containing the elements of a column|\n",
    "|`sort`|`tbl.sort(\"N\")`|Create a copy of a table sorted by the values in a column|\n",
    "|`where`|`tbl.where(\"N\", are.above(2))`|Create a copy of a table with only the rows that match some *predicate*|\n",
    "|`num_rows`|`tbl.num_rows`|Compute the number of rows in a table|\n",
    "|`num_columns`|`tbl.num_columns`|Compute the number of columns in a table|\n",
    "|`select`|`tbl.select(\"N\")`|Create a copy of a table with only some of the columns|\n",
    "|`drop`|`tbl.drop(\"2*N\")`|Create a copy of a table without some of the columns|\n",
    "|`take`|`tbl.take(np.arange(0, 6, 2))`|Create a copy of the table with only the rows whose indices are in the given array|\n",
    "|`join`|`tbl1.join(\"shared_column_name\", tbl2)`|Join together two tables with a common column name\n",
    "|`are.equal_to()`|`tbl.where(\"SEX\", are.equal_to(0))`|find values equal to that indicated|\n",
    "|`are.not_equal_to()`|`tbl.where(\"SEX\", are.not_equal_to(0))` | find values not including the one indicated|\n",
    "|`are.above()`| `tbl.where(\"AGE\", are.above(30))` | find values greater to that indicated|\n",
    "|`are.below()`| `tbl.where(\"AGE\", are.below(40))` | find values less than that indicated |\n",
    "|`are.between()`| `tbl.where(\"SEX\", are.between(18, 60))` | find values between the two indicated |\n",
    "\n",
    "---"
   ]
  },
  {
   "cell_type": "markdown",
   "metadata": {},
   "source": [
    "## Visualizations \n",
    "\n",
    "Now that we have a manageable table we can start making visualizations! Due to the numerical nature of the census table above, let's first try a scatter plot. \n",
    "\n",
    "To create a scatter plot, we need to use the `scatter()` function. The general form is:\n",
    "\n",
    "```python\n",
    "table.scatter(\"column for x axis\", \"column for y axis\")\n",
    "```\n",
    "\n",
    "An example is shown below:"
   ]
  },
  {
   "cell_type": "code",
   "execution_count": 41,
   "metadata": {},
   "outputs": [
    {
     "data": {
      "image/png": "[encoded data removed]",
      "text/plain": [
       "<Figure size 360x360 with 1 Axes>"
      ]
     },
     "metadata": {},
     "output_type": "display_data"
    }
   ],
   "source": [
    "final_census_table.scatter(\"AGE\", \"ESTIMATESBASE2010\") "
   ]
  },
  {
   "cell_type": "markdown",
   "metadata": {},
   "source": [
    "With this data, we can also make a line plot. To do this, we need to use the `plot()` function. This works a lot like `scatter()` where the general form is:\n",
    "\n",
    "```python\n",
    "table.plot(\"x column\", \"y column\")\n",
    "```"
   ]
  },
  {
   "cell_type": "code",
   "execution_count": 42,
   "metadata": {},
   "outputs": [
    {
     "data": {
      "image/png": "[encoded data removed]",
      "text/plain": [
       "<Figure size 432x288 with 1 Axes>"
      ]
     },
     "metadata": {},
     "output_type": "display_data"
    }
   ],
   "source": [
    "final_census_table.plot(\"AGE\", \"ESTIMATESBASE2010\") "
   ]
  },
  {
   "cell_type": "markdown",
   "metadata": {},
   "source": [
    "Though a bar may be better. Bar graphs follow the same formula as scatter plots and line graphs above, with the general form:\n",
    "\n",
    "```python\n",
    "table.bar(\"x axis\", \"y axis\")\n",
    "```"
   ]
  },
  {
   "cell_type": "code",
   "execution_count": 43,
   "metadata": {},
   "outputs": [
    {
     "data": {
      "image/png": "[encoded data removed]",
      "text/plain": [
       "<Figure size 432x288 with 1 Axes>"
      ]
     },
     "metadata": {},
     "output_type": "display_data"
    }
   ],
   "source": [
    "final_census_table.bar(\"AGE\", \"ESTIMATESBASE2010\") "
   ]
  },
  {
   "cell_type": "markdown",
   "metadata": {},
   "source": [
    "You can also use the functino `barh()` instead of `bar()` in order to flip the bar graph horizontally. Sometimes, this makes for a cleaner visualization."
   ]
  },
  {
   "cell_type": "markdown",
   "metadata": {},
   "source": [
    "---\n",
    "\n",
    "## Merging Tables\n",
    "\n",
    "We are going to cover one more topic briefly that you will need to use in your project. We are going to look into how to merge two tables that have common information. This technique will be very valuable when the time comes for you to do your own analysis with your own data sets. \n",
    "\n",
    "We are going to read in a table with information about psychologists. We will call this new table `psych1`."
   ]
  },
  {
   "cell_type": "code",
   "execution_count": 44,
   "metadata": {},
   "outputs": [
    {
     "ename": "FileNotFoundError",
     "evalue": "File b'example-data/psych1.csv' does not exist",
     "output_type": "error",
     "traceback": [
      "\u001b[0;31m---------------------------------------------------------------------------\u001b[0m",
      "\u001b[0;31mFileNotFoundError\u001b[0m                         Traceback (most recent call last)",
      "\u001b[0;32m<ipython-input-44-9934782404bd>\u001b[0m in \u001b[0;36m<module>\u001b[0;34m()\u001b[0m\n\u001b[0;32m----> 1\u001b[0;31m \u001b[0mpsych1\u001b[0m \u001b[0;34m=\u001b[0m \u001b[0mTable\u001b[0m\u001b[0;34m.\u001b[0m\u001b[0mread_table\u001b[0m\u001b[0;34m(\u001b[0m\u001b[0;34m\"example-data/psych1.csv\"\u001b[0m\u001b[0;34m)\u001b[0m\u001b[0;34m\u001b[0m\u001b[0m\n\u001b[0m\u001b[1;32m      2\u001b[0m \u001b[0mpsych1\u001b[0m\u001b[0;34m\u001b[0m\u001b[0m\n",
      "\u001b[0;32m/srv/app/venv/lib/python3.6/site-packages/datascience/tables.py\u001b[0m in \u001b[0;36mread_table\u001b[0;34m(cls, filepath_or_buffer, *args, **vargs)\u001b[0m\n\u001b[1;32m    130\u001b[0m         \u001b[0;32mexcept\u001b[0m \u001b[0mAttributeError\u001b[0m\u001b[0;34m:\u001b[0m\u001b[0;34m\u001b[0m\u001b[0m\n\u001b[1;32m    131\u001b[0m             \u001b[0;32mpass\u001b[0m\u001b[0;34m\u001b[0m\u001b[0m\n\u001b[0;32m--> 132\u001b[0;31m         \u001b[0mdf\u001b[0m \u001b[0;34m=\u001b[0m \u001b[0mpandas\u001b[0m\u001b[0;34m.\u001b[0m\u001b[0mread_table\u001b[0m\u001b[0;34m(\u001b[0m\u001b[0mfilepath_or_buffer\u001b[0m\u001b[0;34m,\u001b[0m \u001b[0;34m*\u001b[0m\u001b[0margs\u001b[0m\u001b[0;34m,\u001b[0m \u001b[0;34m**\u001b[0m\u001b[0mvargs\u001b[0m\u001b[0;34m)\u001b[0m\u001b[0;34m\u001b[0m\u001b[0m\n\u001b[0m\u001b[1;32m    133\u001b[0m         \u001b[0;32mreturn\u001b[0m \u001b[0mcls\u001b[0m\u001b[0;34m.\u001b[0m\u001b[0mfrom_df\u001b[0m\u001b[0;34m(\u001b[0m\u001b[0mdf\u001b[0m\u001b[0;34m)\u001b[0m\u001b[0;34m\u001b[0m\u001b[0m\n\u001b[1;32m    134\u001b[0m \u001b[0;34m\u001b[0m\u001b[0m\n",
      "\u001b[0;32m/srv/app/venv/lib/python3.6/site-packages/pandas/io/parsers.py\u001b[0m in \u001b[0;36mparser_f\u001b[0;34m(filepath_or_buffer, sep, delimiter, header, names, index_col, usecols, squeeze, prefix, mangle_dupe_cols, dtype, engine, converters, true_values, false_values, skipinitialspace, skiprows, nrows, na_values, keep_default_na, na_filter, verbose, skip_blank_lines, parse_dates, infer_datetime_format, keep_date_col, date_parser, dayfirst, iterator, chunksize, compression, thousands, decimal, lineterminator, quotechar, quoting, escapechar, comment, encoding, dialect, tupleize_cols, error_bad_lines, warn_bad_lines, skipfooter, doublequote, delim_whitespace, low_memory, memory_map, float_precision)\u001b[0m\n\u001b[1;32m    676\u001b[0m                     skip_blank_lines=skip_blank_lines)\n\u001b[1;32m    677\u001b[0m \u001b[0;34m\u001b[0m\u001b[0m\n\u001b[0;32m--> 678\u001b[0;31m         \u001b[0;32mreturn\u001b[0m \u001b[0m_read\u001b[0m\u001b[0;34m(\u001b[0m\u001b[0mfilepath_or_buffer\u001b[0m\u001b[0;34m,\u001b[0m \u001b[0mkwds\u001b[0m\u001b[0;34m)\u001b[0m\u001b[0;34m\u001b[0m\u001b[0m\n\u001b[0m\u001b[1;32m    679\u001b[0m \u001b[0;34m\u001b[0m\u001b[0m\n\u001b[1;32m    680\u001b[0m     \u001b[0mparser_f\u001b[0m\u001b[0;34m.\u001b[0m\u001b[0m__name__\u001b[0m \u001b[0;34m=\u001b[0m \u001b[0mname\u001b[0m\u001b[0;34m\u001b[0m\u001b[0m\n",
      "\u001b[0;32m/srv/app/venv/lib/python3.6/site-packages/pandas/io/parsers.py\u001b[0m in \u001b[0;36m_read\u001b[0;34m(filepath_or_buffer, kwds)\u001b[0m\n\u001b[1;32m    438\u001b[0m \u001b[0;34m\u001b[0m\u001b[0m\n\u001b[1;32m    439\u001b[0m     \u001b[0;31m# Create the parser.\u001b[0m\u001b[0;34m\u001b[0m\u001b[0;34m\u001b[0m\u001b[0m\n\u001b[0;32m--> 440\u001b[0;31m     \u001b[0mparser\u001b[0m \u001b[0;34m=\u001b[0m \u001b[0mTextFileReader\u001b[0m\u001b[0;34m(\u001b[0m\u001b[0mfilepath_or_buffer\u001b[0m\u001b[0;34m,\u001b[0m \u001b[0;34m**\u001b[0m\u001b[0mkwds\u001b[0m\u001b[0;34m)\u001b[0m\u001b[0;34m\u001b[0m\u001b[0m\n\u001b[0m\u001b[1;32m    441\u001b[0m \u001b[0;34m\u001b[0m\u001b[0m\n\u001b[1;32m    442\u001b[0m     \u001b[0;32mif\u001b[0m \u001b[0mchunksize\u001b[0m \u001b[0;32mor\u001b[0m \u001b[0miterator\u001b[0m\u001b[0;34m:\u001b[0m\u001b[0;34m\u001b[0m\u001b[0m\n",
      "\u001b[0;32m/srv/app/venv/lib/python3.6/site-packages/pandas/io/parsers.py\u001b[0m in \u001b[0;36m__init__\u001b[0;34m(self, f, engine, **kwds)\u001b[0m\n\u001b[1;32m    785\u001b[0m             \u001b[0mself\u001b[0m\u001b[0;34m.\u001b[0m\u001b[0moptions\u001b[0m\u001b[0;34m[\u001b[0m\u001b[0;34m'has_index_names'\u001b[0m\u001b[0;34m]\u001b[0m \u001b[0;34m=\u001b[0m \u001b[0mkwds\u001b[0m\u001b[0;34m[\u001b[0m\u001b[0;34m'has_index_names'\u001b[0m\u001b[0;34m]\u001b[0m\u001b[0;34m\u001b[0m\u001b[0m\n\u001b[1;32m    786\u001b[0m \u001b[0;34m\u001b[0m\u001b[0m\n\u001b[0;32m--> 787\u001b[0;31m         \u001b[0mself\u001b[0m\u001b[0;34m.\u001b[0m\u001b[0m_make_engine\u001b[0m\u001b[0;34m(\u001b[0m\u001b[0mself\u001b[0m\u001b[0;34m.\u001b[0m\u001b[0mengine\u001b[0m\u001b[0;34m)\u001b[0m\u001b[0;34m\u001b[0m\u001b[0m\n\u001b[0m\u001b[1;32m    788\u001b[0m \u001b[0;34m\u001b[0m\u001b[0m\n\u001b[1;32m    789\u001b[0m     \u001b[0;32mdef\u001b[0m \u001b[0mclose\u001b[0m\u001b[0;34m(\u001b[0m\u001b[0mself\u001b[0m\u001b[0;34m)\u001b[0m\u001b[0;34m:\u001b[0m\u001b[0;34m\u001b[0m\u001b[0m\n",
      "\u001b[0;32m/srv/app/venv/lib/python3.6/site-packages/pandas/io/parsers.py\u001b[0m in \u001b[0;36m_make_engine\u001b[0;34m(self, engine)\u001b[0m\n\u001b[1;32m   1012\u001b[0m     \u001b[0;32mdef\u001b[0m \u001b[0m_make_engine\u001b[0m\u001b[0;34m(\u001b[0m\u001b[0mself\u001b[0m\u001b[0;34m,\u001b[0m \u001b[0mengine\u001b[0m\u001b[0;34m=\u001b[0m\u001b[0;34m'c'\u001b[0m\u001b[0;34m)\u001b[0m\u001b[0;34m:\u001b[0m\u001b[0;34m\u001b[0m\u001b[0m\n\u001b[1;32m   1013\u001b[0m         \u001b[0;32mif\u001b[0m \u001b[0mengine\u001b[0m \u001b[0;34m==\u001b[0m \u001b[0;34m'c'\u001b[0m\u001b[0;34m:\u001b[0m\u001b[0;34m\u001b[0m\u001b[0m\n\u001b[0;32m-> 1014\u001b[0;31m             \u001b[0mself\u001b[0m\u001b[0;34m.\u001b[0m\u001b[0m_engine\u001b[0m \u001b[0;34m=\u001b[0m \u001b[0mCParserWrapper\u001b[0m\u001b[0;34m(\u001b[0m\u001b[0mself\u001b[0m\u001b[0;34m.\u001b[0m\u001b[0mf\u001b[0m\u001b[0;34m,\u001b[0m \u001b[0;34m**\u001b[0m\u001b[0mself\u001b[0m\u001b[0;34m.\u001b[0m\u001b[0moptions\u001b[0m\u001b[0;34m)\u001b[0m\u001b[0;34m\u001b[0m\u001b[0m\n\u001b[0m\u001b[1;32m   1015\u001b[0m         \u001b[0;32melse\u001b[0m\u001b[0;34m:\u001b[0m\u001b[0;34m\u001b[0m\u001b[0m\n\u001b[1;32m   1016\u001b[0m             \u001b[0;32mif\u001b[0m \u001b[0mengine\u001b[0m \u001b[0;34m==\u001b[0m \u001b[0;34m'python'\u001b[0m\u001b[0;34m:\u001b[0m\u001b[0;34m\u001b[0m\u001b[0m\n",
      "\u001b[0;32m/srv/app/venv/lib/python3.6/site-packages/pandas/io/parsers.py\u001b[0m in \u001b[0;36m__init__\u001b[0;34m(self, src, **kwds)\u001b[0m\n\u001b[1;32m   1706\u001b[0m         \u001b[0mkwds\u001b[0m\u001b[0;34m[\u001b[0m\u001b[0;34m'usecols'\u001b[0m\u001b[0;34m]\u001b[0m \u001b[0;34m=\u001b[0m \u001b[0mself\u001b[0m\u001b[0;34m.\u001b[0m\u001b[0musecols\u001b[0m\u001b[0;34m\u001b[0m\u001b[0m\n\u001b[1;32m   1707\u001b[0m \u001b[0;34m\u001b[0m\u001b[0m\n\u001b[0;32m-> 1708\u001b[0;31m         \u001b[0mself\u001b[0m\u001b[0;34m.\u001b[0m\u001b[0m_reader\u001b[0m \u001b[0;34m=\u001b[0m \u001b[0mparsers\u001b[0m\u001b[0;34m.\u001b[0m\u001b[0mTextReader\u001b[0m\u001b[0;34m(\u001b[0m\u001b[0msrc\u001b[0m\u001b[0;34m,\u001b[0m \u001b[0;34m**\u001b[0m\u001b[0mkwds\u001b[0m\u001b[0;34m)\u001b[0m\u001b[0;34m\u001b[0m\u001b[0m\n\u001b[0m\u001b[1;32m   1709\u001b[0m \u001b[0;34m\u001b[0m\u001b[0m\n\u001b[1;32m   1710\u001b[0m         \u001b[0mpassed_names\u001b[0m \u001b[0;34m=\u001b[0m \u001b[0mself\u001b[0m\u001b[0;34m.\u001b[0m\u001b[0mnames\u001b[0m \u001b[0;32mis\u001b[0m \u001b[0;32mNone\u001b[0m\u001b[0;34m\u001b[0m\u001b[0m\n",
      "\u001b[0;32mpandas/_libs/parsers.pyx\u001b[0m in \u001b[0;36mpandas._libs.parsers.TextReader.__cinit__\u001b[0;34m()\u001b[0m\n",
      "\u001b[0;32mpandas/_libs/parsers.pyx\u001b[0m in \u001b[0;36mpandas._libs.parsers.TextReader._setup_parser_source\u001b[0;34m()\u001b[0m\n",
      "\u001b[0;31mFileNotFoundError\u001b[0m: File b'example-data/psych1.csv' does not exist"
     ]
    }
   ],
   "source": [
    "psych1 = Table.read_table(\"example-data/psych1.csv\")\n",
    "psych1"
   ]
  },
  {
   "cell_type": "markdown",
   "metadata": {},
   "source": [
    "### Adding rows\n",
    "\n",
    "You may have another `table` that has the exact same columns and you just want to add the rows to what you already have. Let's read in another short `table` with a couple more psychologists:"
   ]
  },
  {
   "cell_type": "code",
   "execution_count": 45,
   "metadata": {},
   "outputs": [
    {
     "ename": "FileNotFoundError",
     "evalue": "File b'example-data/psych2.csv' does not exist",
     "output_type": "error",
     "traceback": [
      "\u001b[0;31m---------------------------------------------------------------------------\u001b[0m",
      "\u001b[0;31mFileNotFoundError\u001b[0m                         Traceback (most recent call last)",
      "\u001b[0;32m<ipython-input-45-c0fe5f48745a>\u001b[0m in \u001b[0;36m<module>\u001b[0;34m()\u001b[0m\n\u001b[0;32m----> 1\u001b[0;31m \u001b[0mpsych2\u001b[0m \u001b[0;34m=\u001b[0m \u001b[0mTable\u001b[0m\u001b[0;34m.\u001b[0m\u001b[0mread_table\u001b[0m\u001b[0;34m(\u001b[0m\u001b[0;34m\"example-data/psych2.csv\"\u001b[0m\u001b[0;34m)\u001b[0m\u001b[0;34m\u001b[0m\u001b[0m\n\u001b[0m\u001b[1;32m      2\u001b[0m \u001b[0mpsych2\u001b[0m\u001b[0;34m\u001b[0m\u001b[0m\n",
      "\u001b[0;32m/srv/app/venv/lib/python3.6/site-packages/datascience/tables.py\u001b[0m in \u001b[0;36mread_table\u001b[0;34m(cls, filepath_or_buffer, *args, **vargs)\u001b[0m\n\u001b[1;32m    130\u001b[0m         \u001b[0;32mexcept\u001b[0m \u001b[0mAttributeError\u001b[0m\u001b[0;34m:\u001b[0m\u001b[0;34m\u001b[0m\u001b[0m\n\u001b[1;32m    131\u001b[0m             \u001b[0;32mpass\u001b[0m\u001b[0;34m\u001b[0m\u001b[0m\n\u001b[0;32m--> 132\u001b[0;31m         \u001b[0mdf\u001b[0m \u001b[0;34m=\u001b[0m \u001b[0mpandas\u001b[0m\u001b[0;34m.\u001b[0m\u001b[0mread_table\u001b[0m\u001b[0;34m(\u001b[0m\u001b[0mfilepath_or_buffer\u001b[0m\u001b[0;34m,\u001b[0m \u001b[0;34m*\u001b[0m\u001b[0margs\u001b[0m\u001b[0;34m,\u001b[0m \u001b[0;34m**\u001b[0m\u001b[0mvargs\u001b[0m\u001b[0;34m)\u001b[0m\u001b[0;34m\u001b[0m\u001b[0m\n\u001b[0m\u001b[1;32m    133\u001b[0m         \u001b[0;32mreturn\u001b[0m \u001b[0mcls\u001b[0m\u001b[0;34m.\u001b[0m\u001b[0mfrom_df\u001b[0m\u001b[0;34m(\u001b[0m\u001b[0mdf\u001b[0m\u001b[0;34m)\u001b[0m\u001b[0;34m\u001b[0m\u001b[0m\n\u001b[1;32m    134\u001b[0m \u001b[0;34m\u001b[0m\u001b[0m\n",
      "\u001b[0;32m/srv/app/venv/lib/python3.6/site-packages/pandas/io/parsers.py\u001b[0m in \u001b[0;36mparser_f\u001b[0;34m(filepath_or_buffer, sep, delimiter, header, names, index_col, usecols, squeeze, prefix, mangle_dupe_cols, dtype, engine, converters, true_values, false_values, skipinitialspace, skiprows, nrows, na_values, keep_default_na, na_filter, verbose, skip_blank_lines, parse_dates, infer_datetime_format, keep_date_col, date_parser, dayfirst, iterator, chunksize, compression, thousands, decimal, lineterminator, quotechar, quoting, escapechar, comment, encoding, dialect, tupleize_cols, error_bad_lines, warn_bad_lines, skipfooter, doublequote, delim_whitespace, low_memory, memory_map, float_precision)\u001b[0m\n\u001b[1;32m    676\u001b[0m                     skip_blank_lines=skip_blank_lines)\n\u001b[1;32m    677\u001b[0m \u001b[0;34m\u001b[0m\u001b[0m\n\u001b[0;32m--> 678\u001b[0;31m         \u001b[0;32mreturn\u001b[0m \u001b[0m_read\u001b[0m\u001b[0;34m(\u001b[0m\u001b[0mfilepath_or_buffer\u001b[0m\u001b[0;34m,\u001b[0m \u001b[0mkwds\u001b[0m\u001b[0;34m)\u001b[0m\u001b[0;34m\u001b[0m\u001b[0m\n\u001b[0m\u001b[1;32m    679\u001b[0m \u001b[0;34m\u001b[0m\u001b[0m\n\u001b[1;32m    680\u001b[0m     \u001b[0mparser_f\u001b[0m\u001b[0;34m.\u001b[0m\u001b[0m__name__\u001b[0m \u001b[0;34m=\u001b[0m \u001b[0mname\u001b[0m\u001b[0;34m\u001b[0m\u001b[0m\n",
      "\u001b[0;32m/srv/app/venv/lib/python3.6/site-packages/pandas/io/parsers.py\u001b[0m in \u001b[0;36m_read\u001b[0;34m(filepath_or_buffer, kwds)\u001b[0m\n\u001b[1;32m    438\u001b[0m \u001b[0;34m\u001b[0m\u001b[0m\n\u001b[1;32m    439\u001b[0m     \u001b[0;31m# Create the parser.\u001b[0m\u001b[0;34m\u001b[0m\u001b[0;34m\u001b[0m\u001b[0m\n\u001b[0;32m--> 440\u001b[0;31m     \u001b[0mparser\u001b[0m \u001b[0;34m=\u001b[0m \u001b[0mTextFileReader\u001b[0m\u001b[0;34m(\u001b[0m\u001b[0mfilepath_or_buffer\u001b[0m\u001b[0;34m,\u001b[0m \u001b[0;34m**\u001b[0m\u001b[0mkwds\u001b[0m\u001b[0;34m)\u001b[0m\u001b[0;34m\u001b[0m\u001b[0m\n\u001b[0m\u001b[1;32m    441\u001b[0m \u001b[0;34m\u001b[0m\u001b[0m\n\u001b[1;32m    442\u001b[0m     \u001b[0;32mif\u001b[0m \u001b[0mchunksize\u001b[0m \u001b[0;32mor\u001b[0m \u001b[0miterator\u001b[0m\u001b[0;34m:\u001b[0m\u001b[0;34m\u001b[0m\u001b[0m\n",
      "\u001b[0;32m/srv/app/venv/lib/python3.6/site-packages/pandas/io/parsers.py\u001b[0m in \u001b[0;36m__init__\u001b[0;34m(self, f, engine, **kwds)\u001b[0m\n\u001b[1;32m    785\u001b[0m             \u001b[0mself\u001b[0m\u001b[0;34m.\u001b[0m\u001b[0moptions\u001b[0m\u001b[0;34m[\u001b[0m\u001b[0;34m'has_index_names'\u001b[0m\u001b[0;34m]\u001b[0m \u001b[0;34m=\u001b[0m \u001b[0mkwds\u001b[0m\u001b[0;34m[\u001b[0m\u001b[0;34m'has_index_names'\u001b[0m\u001b[0;34m]\u001b[0m\u001b[0;34m\u001b[0m\u001b[0m\n\u001b[1;32m    786\u001b[0m \u001b[0;34m\u001b[0m\u001b[0m\n\u001b[0;32m--> 787\u001b[0;31m         \u001b[0mself\u001b[0m\u001b[0;34m.\u001b[0m\u001b[0m_make_engine\u001b[0m\u001b[0;34m(\u001b[0m\u001b[0mself\u001b[0m\u001b[0;34m.\u001b[0m\u001b[0mengine\u001b[0m\u001b[0;34m)\u001b[0m\u001b[0;34m\u001b[0m\u001b[0m\n\u001b[0m\u001b[1;32m    788\u001b[0m \u001b[0;34m\u001b[0m\u001b[0m\n\u001b[1;32m    789\u001b[0m     \u001b[0;32mdef\u001b[0m \u001b[0mclose\u001b[0m\u001b[0;34m(\u001b[0m\u001b[0mself\u001b[0m\u001b[0;34m)\u001b[0m\u001b[0;34m:\u001b[0m\u001b[0;34m\u001b[0m\u001b[0m\n",
      "\u001b[0;32m/srv/app/venv/lib/python3.6/site-packages/pandas/io/parsers.py\u001b[0m in \u001b[0;36m_make_engine\u001b[0;34m(self, engine)\u001b[0m\n\u001b[1;32m   1012\u001b[0m     \u001b[0;32mdef\u001b[0m \u001b[0m_make_engine\u001b[0m\u001b[0;34m(\u001b[0m\u001b[0mself\u001b[0m\u001b[0;34m,\u001b[0m \u001b[0mengine\u001b[0m\u001b[0;34m=\u001b[0m\u001b[0;34m'c'\u001b[0m\u001b[0;34m)\u001b[0m\u001b[0;34m:\u001b[0m\u001b[0;34m\u001b[0m\u001b[0m\n\u001b[1;32m   1013\u001b[0m         \u001b[0;32mif\u001b[0m \u001b[0mengine\u001b[0m \u001b[0;34m==\u001b[0m \u001b[0;34m'c'\u001b[0m\u001b[0;34m:\u001b[0m\u001b[0;34m\u001b[0m\u001b[0m\n\u001b[0;32m-> 1014\u001b[0;31m             \u001b[0mself\u001b[0m\u001b[0;34m.\u001b[0m\u001b[0m_engine\u001b[0m \u001b[0;34m=\u001b[0m \u001b[0mCParserWrapper\u001b[0m\u001b[0;34m(\u001b[0m\u001b[0mself\u001b[0m\u001b[0;34m.\u001b[0m\u001b[0mf\u001b[0m\u001b[0;34m,\u001b[0m \u001b[0;34m**\u001b[0m\u001b[0mself\u001b[0m\u001b[0;34m.\u001b[0m\u001b[0moptions\u001b[0m\u001b[0;34m)\u001b[0m\u001b[0;34m\u001b[0m\u001b[0m\n\u001b[0m\u001b[1;32m   1015\u001b[0m         \u001b[0;32melse\u001b[0m\u001b[0;34m:\u001b[0m\u001b[0;34m\u001b[0m\u001b[0m\n\u001b[1;32m   1016\u001b[0m             \u001b[0;32mif\u001b[0m \u001b[0mengine\u001b[0m \u001b[0;34m==\u001b[0m \u001b[0;34m'python'\u001b[0m\u001b[0;34m:\u001b[0m\u001b[0;34m\u001b[0m\u001b[0m\n",
      "\u001b[0;32m/srv/app/venv/lib/python3.6/site-packages/pandas/io/parsers.py\u001b[0m in \u001b[0;36m__init__\u001b[0;34m(self, src, **kwds)\u001b[0m\n\u001b[1;32m   1706\u001b[0m         \u001b[0mkwds\u001b[0m\u001b[0;34m[\u001b[0m\u001b[0;34m'usecols'\u001b[0m\u001b[0;34m]\u001b[0m \u001b[0;34m=\u001b[0m \u001b[0mself\u001b[0m\u001b[0;34m.\u001b[0m\u001b[0musecols\u001b[0m\u001b[0;34m\u001b[0m\u001b[0m\n\u001b[1;32m   1707\u001b[0m \u001b[0;34m\u001b[0m\u001b[0m\n\u001b[0;32m-> 1708\u001b[0;31m         \u001b[0mself\u001b[0m\u001b[0;34m.\u001b[0m\u001b[0m_reader\u001b[0m \u001b[0;34m=\u001b[0m \u001b[0mparsers\u001b[0m\u001b[0;34m.\u001b[0m\u001b[0mTextReader\u001b[0m\u001b[0;34m(\u001b[0m\u001b[0msrc\u001b[0m\u001b[0;34m,\u001b[0m \u001b[0;34m**\u001b[0m\u001b[0mkwds\u001b[0m\u001b[0;34m)\u001b[0m\u001b[0;34m\u001b[0m\u001b[0m\n\u001b[0m\u001b[1;32m   1709\u001b[0m \u001b[0;34m\u001b[0m\u001b[0m\n\u001b[1;32m   1710\u001b[0m         \u001b[0mpassed_names\u001b[0m \u001b[0;34m=\u001b[0m \u001b[0mself\u001b[0m\u001b[0;34m.\u001b[0m\u001b[0mnames\u001b[0m \u001b[0;32mis\u001b[0m \u001b[0;32mNone\u001b[0m\u001b[0;34m\u001b[0m\u001b[0m\n",
      "\u001b[0;32mpandas/_libs/parsers.pyx\u001b[0m in \u001b[0;36mpandas._libs.parsers.TextReader.__cinit__\u001b[0;34m()\u001b[0m\n",
      "\u001b[0;32mpandas/_libs/parsers.pyx\u001b[0m in \u001b[0;36mpandas._libs.parsers.TextReader._setup_parser_source\u001b[0;34m()\u001b[0m\n",
      "\u001b[0;31mFileNotFoundError\u001b[0m: File b'example-data/psych2.csv' does not exist"
     ]
    }
   ],
   "source": [
    "psych2 = Table.read_table(\"example-data/psych2.csv\")\n",
    "psych2"
   ]
  },
  {
   "cell_type": "markdown",
   "metadata": {},
   "source": [
    "Great! We see that this second table has the same columns as the first one. Merging these two tables would allow us to consolidate our information. We are going to use the \"append\" method to append the second table onto the first!"
   ]
  },
  {
   "cell_type": "code",
   "execution_count": 46,
   "metadata": {},
   "outputs": [
    {
     "ename": "NameError",
     "evalue": "name 'psych1' is not defined",
     "output_type": "error",
     "traceback": [
      "\u001b[0;31m---------------------------------------------------------------------------\u001b[0m",
      "\u001b[0;31mNameError\u001b[0m                                 Traceback (most recent call last)",
      "\u001b[0;32m<ipython-input-46-8a5b465ea323>\u001b[0m in \u001b[0;36m<module>\u001b[0;34m()\u001b[0m\n\u001b[0;32m----> 1\u001b[0;31m \u001b[0mpsych_merged\u001b[0m \u001b[0;34m=\u001b[0m \u001b[0mTable\u001b[0m\u001b[0;34m.\u001b[0m\u001b[0mcopy\u001b[0m\u001b[0;34m(\u001b[0m\u001b[0mpsych1\u001b[0m\u001b[0;34m)\u001b[0m  \u001b[0;31m# copying over the new_psych table to a new variable for the merged table\u001b[0m\u001b[0;34m\u001b[0m\u001b[0m\n\u001b[0m\u001b[1;32m      2\u001b[0m \u001b[0mpsych_merged\u001b[0m\u001b[0;34m.\u001b[0m\u001b[0mappend\u001b[0m\u001b[0;34m(\u001b[0m\u001b[0mpsych2\u001b[0m\u001b[0;34m)\u001b[0m\u001b[0;34m\u001b[0m\u001b[0m\n\u001b[1;32m      3\u001b[0m \u001b[0mpsych_merged\u001b[0m\u001b[0;34m\u001b[0m\u001b[0m\n",
      "\u001b[0;31mNameError\u001b[0m: name 'psych1' is not defined"
     ]
    }
   ],
   "source": [
    "psych_merged = Table.copy(psych1)  # copying over the new_psych table to a new variable for the merged table\n",
    "psych_merged.append(psych2)\n",
    "psych_merged"
   ]
  },
  {
   "cell_type": "markdown",
   "metadata": {},
   "source": [
    "As you can see, we have succesfully merged these two tables together! Now, let us try merging an additional column onto the original `new_psych` table. \n",
    "\n",
    "### Adding columns\n",
    "\n",
    "Let's pretend that we suddenly have access to the favorite foods of each psychologist. Wow! We definitely want to include that information in our table. This means that we need to merge in a new column to the initial table. Let us print the table first, and then we'll get the other column."
   ]
  },
  {
   "cell_type": "code",
   "execution_count": 47,
   "metadata": {},
   "outputs": [
    {
     "ename": "NameError",
     "evalue": "name 'psych_merged' is not defined",
     "output_type": "error",
     "traceback": [
      "\u001b[0;31m---------------------------------------------------------------------------\u001b[0m",
      "\u001b[0;31mNameError\u001b[0m                                 Traceback (most recent call last)",
      "\u001b[0;32m<ipython-input-47-62a22b8ad915>\u001b[0m in \u001b[0;36m<module>\u001b[0;34m()\u001b[0m\n\u001b[0;32m----> 1\u001b[0;31m \u001b[0mpsych_merged\u001b[0m\u001b[0;34m\u001b[0m\u001b[0m\n\u001b[0m",
      "\u001b[0;31mNameError\u001b[0m: name 'psych_merged' is not defined"
     ]
    }
   ],
   "source": [
    "psych_merged"
   ]
  },
  {
   "cell_type": "markdown",
   "metadata": {},
   "source": [
    "Now we are going to create to read in our new information."
   ]
  },
  {
   "cell_type": "code",
   "execution_count": 48,
   "metadata": {},
   "outputs": [
    {
     "ename": "FileNotFoundError",
     "evalue": "File b'example-data/favorite_food.csv' does not exist",
     "output_type": "error",
     "traceback": [
      "\u001b[0;31m---------------------------------------------------------------------------\u001b[0m",
      "\u001b[0;31mFileNotFoundError\u001b[0m                         Traceback (most recent call last)",
      "\u001b[0;32m<ipython-input-48-e2f4bce8fb30>\u001b[0m in \u001b[0;36m<module>\u001b[0;34m()\u001b[0m\n\u001b[0;32m----> 1\u001b[0;31m \u001b[0mpsych_foods\u001b[0m \u001b[0;34m=\u001b[0m \u001b[0mTable\u001b[0m\u001b[0;34m.\u001b[0m\u001b[0mread_table\u001b[0m\u001b[0;34m(\u001b[0m\u001b[0;34m'example-data/favorite_food.csv'\u001b[0m\u001b[0;34m)\u001b[0m\u001b[0;34m\u001b[0m\u001b[0m\n\u001b[0m\u001b[1;32m      2\u001b[0m \u001b[0mpsych_foods\u001b[0m\u001b[0;34m\u001b[0m\u001b[0m\n",
      "\u001b[0;32m/srv/app/venv/lib/python3.6/site-packages/datascience/tables.py\u001b[0m in \u001b[0;36mread_table\u001b[0;34m(cls, filepath_or_buffer, *args, **vargs)\u001b[0m\n\u001b[1;32m    130\u001b[0m         \u001b[0;32mexcept\u001b[0m \u001b[0mAttributeError\u001b[0m\u001b[0;34m:\u001b[0m\u001b[0;34m\u001b[0m\u001b[0m\n\u001b[1;32m    131\u001b[0m             \u001b[0;32mpass\u001b[0m\u001b[0;34m\u001b[0m\u001b[0m\n\u001b[0;32m--> 132\u001b[0;31m         \u001b[0mdf\u001b[0m \u001b[0;34m=\u001b[0m \u001b[0mpandas\u001b[0m\u001b[0;34m.\u001b[0m\u001b[0mread_table\u001b[0m\u001b[0;34m(\u001b[0m\u001b[0mfilepath_or_buffer\u001b[0m\u001b[0;34m,\u001b[0m \u001b[0;34m*\u001b[0m\u001b[0margs\u001b[0m\u001b[0;34m,\u001b[0m \u001b[0;34m**\u001b[0m\u001b[0mvargs\u001b[0m\u001b[0;34m)\u001b[0m\u001b[0;34m\u001b[0m\u001b[0m\n\u001b[0m\u001b[1;32m    133\u001b[0m         \u001b[0;32mreturn\u001b[0m \u001b[0mcls\u001b[0m\u001b[0;34m.\u001b[0m\u001b[0mfrom_df\u001b[0m\u001b[0;34m(\u001b[0m\u001b[0mdf\u001b[0m\u001b[0;34m)\u001b[0m\u001b[0;34m\u001b[0m\u001b[0m\n\u001b[1;32m    134\u001b[0m \u001b[0;34m\u001b[0m\u001b[0m\n",
      "\u001b[0;32m/srv/app/venv/lib/python3.6/site-packages/pandas/io/parsers.py\u001b[0m in \u001b[0;36mparser_f\u001b[0;34m(filepath_or_buffer, sep, delimiter, header, names, index_col, usecols, squeeze, prefix, mangle_dupe_cols, dtype, engine, converters, true_values, false_values, skipinitialspace, skiprows, nrows, na_values, keep_default_na, na_filter, verbose, skip_blank_lines, parse_dates, infer_datetime_format, keep_date_col, date_parser, dayfirst, iterator, chunksize, compression, thousands, decimal, lineterminator, quotechar, quoting, escapechar, comment, encoding, dialect, tupleize_cols, error_bad_lines, warn_bad_lines, skipfooter, doublequote, delim_whitespace, low_memory, memory_map, float_precision)\u001b[0m\n\u001b[1;32m    676\u001b[0m                     skip_blank_lines=skip_blank_lines)\n\u001b[1;32m    677\u001b[0m \u001b[0;34m\u001b[0m\u001b[0m\n\u001b[0;32m--> 678\u001b[0;31m         \u001b[0;32mreturn\u001b[0m \u001b[0m_read\u001b[0m\u001b[0;34m(\u001b[0m\u001b[0mfilepath_or_buffer\u001b[0m\u001b[0;34m,\u001b[0m \u001b[0mkwds\u001b[0m\u001b[0;34m)\u001b[0m\u001b[0;34m\u001b[0m\u001b[0m\n\u001b[0m\u001b[1;32m    679\u001b[0m \u001b[0;34m\u001b[0m\u001b[0m\n\u001b[1;32m    680\u001b[0m     \u001b[0mparser_f\u001b[0m\u001b[0;34m.\u001b[0m\u001b[0m__name__\u001b[0m \u001b[0;34m=\u001b[0m \u001b[0mname\u001b[0m\u001b[0;34m\u001b[0m\u001b[0m\n",
      "\u001b[0;32m/srv/app/venv/lib/python3.6/site-packages/pandas/io/parsers.py\u001b[0m in \u001b[0;36m_read\u001b[0;34m(filepath_or_buffer, kwds)\u001b[0m\n\u001b[1;32m    438\u001b[0m \u001b[0;34m\u001b[0m\u001b[0m\n\u001b[1;32m    439\u001b[0m     \u001b[0;31m# Create the parser.\u001b[0m\u001b[0;34m\u001b[0m\u001b[0;34m\u001b[0m\u001b[0m\n\u001b[0;32m--> 440\u001b[0;31m     \u001b[0mparser\u001b[0m \u001b[0;34m=\u001b[0m \u001b[0mTextFileReader\u001b[0m\u001b[0;34m(\u001b[0m\u001b[0mfilepath_or_buffer\u001b[0m\u001b[0;34m,\u001b[0m \u001b[0;34m**\u001b[0m\u001b[0mkwds\u001b[0m\u001b[0;34m)\u001b[0m\u001b[0;34m\u001b[0m\u001b[0m\n\u001b[0m\u001b[1;32m    441\u001b[0m \u001b[0;34m\u001b[0m\u001b[0m\n\u001b[1;32m    442\u001b[0m     \u001b[0;32mif\u001b[0m \u001b[0mchunksize\u001b[0m \u001b[0;32mor\u001b[0m \u001b[0miterator\u001b[0m\u001b[0;34m:\u001b[0m\u001b[0;34m\u001b[0m\u001b[0m\n",
      "\u001b[0;32m/srv/app/venv/lib/python3.6/site-packages/pandas/io/parsers.py\u001b[0m in \u001b[0;36m__init__\u001b[0;34m(self, f, engine, **kwds)\u001b[0m\n\u001b[1;32m    785\u001b[0m             \u001b[0mself\u001b[0m\u001b[0;34m.\u001b[0m\u001b[0moptions\u001b[0m\u001b[0;34m[\u001b[0m\u001b[0;34m'has_index_names'\u001b[0m\u001b[0;34m]\u001b[0m \u001b[0;34m=\u001b[0m \u001b[0mkwds\u001b[0m\u001b[0;34m[\u001b[0m\u001b[0;34m'has_index_names'\u001b[0m\u001b[0;34m]\u001b[0m\u001b[0;34m\u001b[0m\u001b[0m\n\u001b[1;32m    786\u001b[0m \u001b[0;34m\u001b[0m\u001b[0m\n\u001b[0;32m--> 787\u001b[0;31m         \u001b[0mself\u001b[0m\u001b[0;34m.\u001b[0m\u001b[0m_make_engine\u001b[0m\u001b[0;34m(\u001b[0m\u001b[0mself\u001b[0m\u001b[0;34m.\u001b[0m\u001b[0mengine\u001b[0m\u001b[0;34m)\u001b[0m\u001b[0;34m\u001b[0m\u001b[0m\n\u001b[0m\u001b[1;32m    788\u001b[0m \u001b[0;34m\u001b[0m\u001b[0m\n\u001b[1;32m    789\u001b[0m     \u001b[0;32mdef\u001b[0m \u001b[0mclose\u001b[0m\u001b[0;34m(\u001b[0m\u001b[0mself\u001b[0m\u001b[0;34m)\u001b[0m\u001b[0;34m:\u001b[0m\u001b[0;34m\u001b[0m\u001b[0m\n",
      "\u001b[0;32m/srv/app/venv/lib/python3.6/site-packages/pandas/io/parsers.py\u001b[0m in \u001b[0;36m_make_engine\u001b[0;34m(self, engine)\u001b[0m\n\u001b[1;32m   1012\u001b[0m     \u001b[0;32mdef\u001b[0m \u001b[0m_make_engine\u001b[0m\u001b[0;34m(\u001b[0m\u001b[0mself\u001b[0m\u001b[0;34m,\u001b[0m \u001b[0mengine\u001b[0m\u001b[0;34m=\u001b[0m\u001b[0;34m'c'\u001b[0m\u001b[0;34m)\u001b[0m\u001b[0;34m:\u001b[0m\u001b[0;34m\u001b[0m\u001b[0m\n\u001b[1;32m   1013\u001b[0m         \u001b[0;32mif\u001b[0m \u001b[0mengine\u001b[0m \u001b[0;34m==\u001b[0m \u001b[0;34m'c'\u001b[0m\u001b[0;34m:\u001b[0m\u001b[0;34m\u001b[0m\u001b[0m\n\u001b[0;32m-> 1014\u001b[0;31m             \u001b[0mself\u001b[0m\u001b[0;34m.\u001b[0m\u001b[0m_engine\u001b[0m \u001b[0;34m=\u001b[0m \u001b[0mCParserWrapper\u001b[0m\u001b[0;34m(\u001b[0m\u001b[0mself\u001b[0m\u001b[0;34m.\u001b[0m\u001b[0mf\u001b[0m\u001b[0;34m,\u001b[0m \u001b[0;34m**\u001b[0m\u001b[0mself\u001b[0m\u001b[0;34m.\u001b[0m\u001b[0moptions\u001b[0m\u001b[0;34m)\u001b[0m\u001b[0;34m\u001b[0m\u001b[0m\n\u001b[0m\u001b[1;32m   1015\u001b[0m         \u001b[0;32melse\u001b[0m\u001b[0;34m:\u001b[0m\u001b[0;34m\u001b[0m\u001b[0m\n\u001b[1;32m   1016\u001b[0m             \u001b[0;32mif\u001b[0m \u001b[0mengine\u001b[0m \u001b[0;34m==\u001b[0m \u001b[0;34m'python'\u001b[0m\u001b[0;34m:\u001b[0m\u001b[0;34m\u001b[0m\u001b[0m\n",
      "\u001b[0;32m/srv/app/venv/lib/python3.6/site-packages/pandas/io/parsers.py\u001b[0m in \u001b[0;36m__init__\u001b[0;34m(self, src, **kwds)\u001b[0m\n\u001b[1;32m   1706\u001b[0m         \u001b[0mkwds\u001b[0m\u001b[0;34m[\u001b[0m\u001b[0;34m'usecols'\u001b[0m\u001b[0;34m]\u001b[0m \u001b[0;34m=\u001b[0m \u001b[0mself\u001b[0m\u001b[0;34m.\u001b[0m\u001b[0musecols\u001b[0m\u001b[0;34m\u001b[0m\u001b[0m\n\u001b[1;32m   1707\u001b[0m \u001b[0;34m\u001b[0m\u001b[0m\n\u001b[0;32m-> 1708\u001b[0;31m         \u001b[0mself\u001b[0m\u001b[0;34m.\u001b[0m\u001b[0m_reader\u001b[0m \u001b[0;34m=\u001b[0m \u001b[0mparsers\u001b[0m\u001b[0;34m.\u001b[0m\u001b[0mTextReader\u001b[0m\u001b[0;34m(\u001b[0m\u001b[0msrc\u001b[0m\u001b[0;34m,\u001b[0m \u001b[0;34m**\u001b[0m\u001b[0mkwds\u001b[0m\u001b[0;34m)\u001b[0m\u001b[0;34m\u001b[0m\u001b[0m\n\u001b[0m\u001b[1;32m   1709\u001b[0m \u001b[0;34m\u001b[0m\u001b[0m\n\u001b[1;32m   1710\u001b[0m         \u001b[0mpassed_names\u001b[0m \u001b[0;34m=\u001b[0m \u001b[0mself\u001b[0m\u001b[0;34m.\u001b[0m\u001b[0mnames\u001b[0m \u001b[0;32mis\u001b[0m \u001b[0;32mNone\u001b[0m\u001b[0;34m\u001b[0m\u001b[0m\n",
      "\u001b[0;32mpandas/_libs/parsers.pyx\u001b[0m in \u001b[0;36mpandas._libs.parsers.TextReader.__cinit__\u001b[0;34m()\u001b[0m\n",
      "\u001b[0;32mpandas/_libs/parsers.pyx\u001b[0m in \u001b[0;36mpandas._libs.parsers.TextReader._setup_parser_source\u001b[0;34m()\u001b[0m\n",
      "\u001b[0;31mFileNotFoundError\u001b[0m: File b'example-data/favorite_food.csv' does not exist"
     ]
    }
   ],
   "source": [
    "psych_foods = Table.read_table('example-data/favorite_food.csv')\n",
    "psych_foods"
   ]
  },
  {
   "cell_type": "markdown",
   "metadata": {},
   "source": [
    "Luckily, we are going to assume that each row is in the right order in the column. We are going to use a similar process as before to merge this column! The method we now use is `append_column`. Otherwise, the format stays the same!"
   ]
  },
  {
   "cell_type": "code",
   "execution_count": 49,
   "metadata": {},
   "outputs": [
    {
     "ename": "NameError",
     "evalue": "name 'psych_merged' is not defined",
     "output_type": "error",
     "traceback": [
      "\u001b[0;31m---------------------------------------------------------------------------\u001b[0m",
      "\u001b[0;31mNameError\u001b[0m                                 Traceback (most recent call last)",
      "\u001b[0;32m<ipython-input-49-16a2ab127373>\u001b[0m in \u001b[0;36m<module>\u001b[0;34m()\u001b[0m\n\u001b[0;32m----> 1\u001b[0;31m \u001b[0mpsych_merged_with_food\u001b[0m \u001b[0;34m=\u001b[0m \u001b[0mTable\u001b[0m\u001b[0;34m.\u001b[0m\u001b[0mcopy\u001b[0m\u001b[0;34m(\u001b[0m\u001b[0mpsych_merged\u001b[0m\u001b[0;34m)\u001b[0m  \u001b[0;31m# copying over the new_psych table to a new variable\u001b[0m\u001b[0;34m\u001b[0m\u001b[0m\n\u001b[0m\u001b[1;32m      2\u001b[0m \u001b[0mpsych_merged_with_food\u001b[0m\u001b[0;34m.\u001b[0m\u001b[0mappend_column\u001b[0m\u001b[0;34m(\u001b[0m\u001b[0;34m\"Favorite Food\"\u001b[0m\u001b[0;34m,\u001b[0m \u001b[0mpsych_foods\u001b[0m\u001b[0;34m[\u001b[0m\u001b[0;34m'Favorite Food'\u001b[0m\u001b[0;34m]\u001b[0m\u001b[0;34m)\u001b[0m\u001b[0;34m\u001b[0m\u001b[0m\n\u001b[1;32m      3\u001b[0m \u001b[0mpsych_merged_with_food\u001b[0m\u001b[0;34m\u001b[0m\u001b[0m\n",
      "\u001b[0;31mNameError\u001b[0m: name 'psych_merged' is not defined"
     ]
    }
   ],
   "source": [
    "psych_merged_with_food = Table.copy(psych_merged)  # copying over the new_psych table to a new variable \n",
    "psych_merged_with_food.append_column(\"Favorite Food\", psych_foods['Favorite Food'])\n",
    "psych_merged_with_food"
   ]
  },
  {
   "cell_type": "markdown",
   "metadata": {},
   "source": [
    "As you can see, we've successfully merged a column to our table too!\n",
    "\n",
    "### Joining on columns\n",
    "\n",
    "Suppose now that you have more information on the these psycologists (another column), but the rows aren't in the right order so you can't just `append_column`. Luckily, you have their names. "
   ]
  },
  {
   "cell_type": "code",
   "execution_count": 50,
   "metadata": {},
   "outputs": [
    {
     "ename": "FileNotFoundError",
     "evalue": "File b'example-data/birthplaces.csv' does not exist",
     "output_type": "error",
     "traceback": [
      "\u001b[0;31m---------------------------------------------------------------------------\u001b[0m",
      "\u001b[0;31mFileNotFoundError\u001b[0m                         Traceback (most recent call last)",
      "\u001b[0;32m<ipython-input-50-f6f2126f9e74>\u001b[0m in \u001b[0;36m<module>\u001b[0;34m()\u001b[0m\n\u001b[0;32m----> 1\u001b[0;31m \u001b[0mpsych_birthplaces\u001b[0m \u001b[0;34m=\u001b[0m \u001b[0mTable\u001b[0m\u001b[0;34m.\u001b[0m\u001b[0mread_table\u001b[0m\u001b[0;34m(\u001b[0m\u001b[0;34m\"example-data/birthplaces.csv\"\u001b[0m\u001b[0;34m)\u001b[0m\u001b[0;34m\u001b[0m\u001b[0m\n\u001b[0m\u001b[1;32m      2\u001b[0m \u001b[0mpsych_birthplaces\u001b[0m\u001b[0;34m\u001b[0m\u001b[0m\n",
      "\u001b[0;32m/srv/app/venv/lib/python3.6/site-packages/datascience/tables.py\u001b[0m in \u001b[0;36mread_table\u001b[0;34m(cls, filepath_or_buffer, *args, **vargs)\u001b[0m\n\u001b[1;32m    130\u001b[0m         \u001b[0;32mexcept\u001b[0m \u001b[0mAttributeError\u001b[0m\u001b[0;34m:\u001b[0m\u001b[0;34m\u001b[0m\u001b[0m\n\u001b[1;32m    131\u001b[0m             \u001b[0;32mpass\u001b[0m\u001b[0;34m\u001b[0m\u001b[0m\n\u001b[0;32m--> 132\u001b[0;31m         \u001b[0mdf\u001b[0m \u001b[0;34m=\u001b[0m \u001b[0mpandas\u001b[0m\u001b[0;34m.\u001b[0m\u001b[0mread_table\u001b[0m\u001b[0;34m(\u001b[0m\u001b[0mfilepath_or_buffer\u001b[0m\u001b[0;34m,\u001b[0m \u001b[0;34m*\u001b[0m\u001b[0margs\u001b[0m\u001b[0;34m,\u001b[0m \u001b[0;34m**\u001b[0m\u001b[0mvargs\u001b[0m\u001b[0;34m)\u001b[0m\u001b[0;34m\u001b[0m\u001b[0m\n\u001b[0m\u001b[1;32m    133\u001b[0m         \u001b[0;32mreturn\u001b[0m \u001b[0mcls\u001b[0m\u001b[0;34m.\u001b[0m\u001b[0mfrom_df\u001b[0m\u001b[0;34m(\u001b[0m\u001b[0mdf\u001b[0m\u001b[0;34m)\u001b[0m\u001b[0;34m\u001b[0m\u001b[0m\n\u001b[1;32m    134\u001b[0m \u001b[0;34m\u001b[0m\u001b[0m\n",
      "\u001b[0;32m/srv/app/venv/lib/python3.6/site-packages/pandas/io/parsers.py\u001b[0m in \u001b[0;36mparser_f\u001b[0;34m(filepath_or_buffer, sep, delimiter, header, names, index_col, usecols, squeeze, prefix, mangle_dupe_cols, dtype, engine, converters, true_values, false_values, skipinitialspace, skiprows, nrows, na_values, keep_default_na, na_filter, verbose, skip_blank_lines, parse_dates, infer_datetime_format, keep_date_col, date_parser, dayfirst, iterator, chunksize, compression, thousands, decimal, lineterminator, quotechar, quoting, escapechar, comment, encoding, dialect, tupleize_cols, error_bad_lines, warn_bad_lines, skipfooter, doublequote, delim_whitespace, low_memory, memory_map, float_precision)\u001b[0m\n\u001b[1;32m    676\u001b[0m                     skip_blank_lines=skip_blank_lines)\n\u001b[1;32m    677\u001b[0m \u001b[0;34m\u001b[0m\u001b[0m\n\u001b[0;32m--> 678\u001b[0;31m         \u001b[0;32mreturn\u001b[0m \u001b[0m_read\u001b[0m\u001b[0;34m(\u001b[0m\u001b[0mfilepath_or_buffer\u001b[0m\u001b[0;34m,\u001b[0m \u001b[0mkwds\u001b[0m\u001b[0;34m)\u001b[0m\u001b[0;34m\u001b[0m\u001b[0m\n\u001b[0m\u001b[1;32m    679\u001b[0m \u001b[0;34m\u001b[0m\u001b[0m\n\u001b[1;32m    680\u001b[0m     \u001b[0mparser_f\u001b[0m\u001b[0;34m.\u001b[0m\u001b[0m__name__\u001b[0m \u001b[0;34m=\u001b[0m \u001b[0mname\u001b[0m\u001b[0;34m\u001b[0m\u001b[0m\n",
      "\u001b[0;32m/srv/app/venv/lib/python3.6/site-packages/pandas/io/parsers.py\u001b[0m in \u001b[0;36m_read\u001b[0;34m(filepath_or_buffer, kwds)\u001b[0m\n\u001b[1;32m    438\u001b[0m \u001b[0;34m\u001b[0m\u001b[0m\n\u001b[1;32m    439\u001b[0m     \u001b[0;31m# Create the parser.\u001b[0m\u001b[0;34m\u001b[0m\u001b[0;34m\u001b[0m\u001b[0m\n\u001b[0;32m--> 440\u001b[0;31m     \u001b[0mparser\u001b[0m \u001b[0;34m=\u001b[0m \u001b[0mTextFileReader\u001b[0m\u001b[0;34m(\u001b[0m\u001b[0mfilepath_or_buffer\u001b[0m\u001b[0;34m,\u001b[0m \u001b[0;34m**\u001b[0m\u001b[0mkwds\u001b[0m\u001b[0;34m)\u001b[0m\u001b[0;34m\u001b[0m\u001b[0m\n\u001b[0m\u001b[1;32m    441\u001b[0m \u001b[0;34m\u001b[0m\u001b[0m\n\u001b[1;32m    442\u001b[0m     \u001b[0;32mif\u001b[0m \u001b[0mchunksize\u001b[0m \u001b[0;32mor\u001b[0m \u001b[0miterator\u001b[0m\u001b[0;34m:\u001b[0m\u001b[0;34m\u001b[0m\u001b[0m\n",
      "\u001b[0;32m/srv/app/venv/lib/python3.6/site-packages/pandas/io/parsers.py\u001b[0m in \u001b[0;36m__init__\u001b[0;34m(self, f, engine, **kwds)\u001b[0m\n\u001b[1;32m    785\u001b[0m             \u001b[0mself\u001b[0m\u001b[0;34m.\u001b[0m\u001b[0moptions\u001b[0m\u001b[0;34m[\u001b[0m\u001b[0;34m'has_index_names'\u001b[0m\u001b[0;34m]\u001b[0m \u001b[0;34m=\u001b[0m \u001b[0mkwds\u001b[0m\u001b[0;34m[\u001b[0m\u001b[0;34m'has_index_names'\u001b[0m\u001b[0;34m]\u001b[0m\u001b[0;34m\u001b[0m\u001b[0m\n\u001b[1;32m    786\u001b[0m \u001b[0;34m\u001b[0m\u001b[0m\n\u001b[0;32m--> 787\u001b[0;31m         \u001b[0mself\u001b[0m\u001b[0;34m.\u001b[0m\u001b[0m_make_engine\u001b[0m\u001b[0;34m(\u001b[0m\u001b[0mself\u001b[0m\u001b[0;34m.\u001b[0m\u001b[0mengine\u001b[0m\u001b[0;34m)\u001b[0m\u001b[0;34m\u001b[0m\u001b[0m\n\u001b[0m\u001b[1;32m    788\u001b[0m \u001b[0;34m\u001b[0m\u001b[0m\n\u001b[1;32m    789\u001b[0m     \u001b[0;32mdef\u001b[0m \u001b[0mclose\u001b[0m\u001b[0;34m(\u001b[0m\u001b[0mself\u001b[0m\u001b[0;34m)\u001b[0m\u001b[0;34m:\u001b[0m\u001b[0;34m\u001b[0m\u001b[0m\n",
      "\u001b[0;32m/srv/app/venv/lib/python3.6/site-packages/pandas/io/parsers.py\u001b[0m in \u001b[0;36m_make_engine\u001b[0;34m(self, engine)\u001b[0m\n\u001b[1;32m   1012\u001b[0m     \u001b[0;32mdef\u001b[0m \u001b[0m_make_engine\u001b[0m\u001b[0;34m(\u001b[0m\u001b[0mself\u001b[0m\u001b[0;34m,\u001b[0m \u001b[0mengine\u001b[0m\u001b[0;34m=\u001b[0m\u001b[0;34m'c'\u001b[0m\u001b[0;34m)\u001b[0m\u001b[0;34m:\u001b[0m\u001b[0;34m\u001b[0m\u001b[0m\n\u001b[1;32m   1013\u001b[0m         \u001b[0;32mif\u001b[0m \u001b[0mengine\u001b[0m \u001b[0;34m==\u001b[0m \u001b[0;34m'c'\u001b[0m\u001b[0;34m:\u001b[0m\u001b[0;34m\u001b[0m\u001b[0m\n\u001b[0;32m-> 1014\u001b[0;31m             \u001b[0mself\u001b[0m\u001b[0;34m.\u001b[0m\u001b[0m_engine\u001b[0m \u001b[0;34m=\u001b[0m \u001b[0mCParserWrapper\u001b[0m\u001b[0;34m(\u001b[0m\u001b[0mself\u001b[0m\u001b[0;34m.\u001b[0m\u001b[0mf\u001b[0m\u001b[0;34m,\u001b[0m \u001b[0;34m**\u001b[0m\u001b[0mself\u001b[0m\u001b[0;34m.\u001b[0m\u001b[0moptions\u001b[0m\u001b[0;34m)\u001b[0m\u001b[0;34m\u001b[0m\u001b[0m\n\u001b[0m\u001b[1;32m   1015\u001b[0m         \u001b[0;32melse\u001b[0m\u001b[0;34m:\u001b[0m\u001b[0;34m\u001b[0m\u001b[0m\n\u001b[1;32m   1016\u001b[0m             \u001b[0;32mif\u001b[0m \u001b[0mengine\u001b[0m \u001b[0;34m==\u001b[0m \u001b[0;34m'python'\u001b[0m\u001b[0;34m:\u001b[0m\u001b[0;34m\u001b[0m\u001b[0m\n",
      "\u001b[0;32m/srv/app/venv/lib/python3.6/site-packages/pandas/io/parsers.py\u001b[0m in \u001b[0;36m__init__\u001b[0;34m(self, src, **kwds)\u001b[0m\n\u001b[1;32m   1706\u001b[0m         \u001b[0mkwds\u001b[0m\u001b[0;34m[\u001b[0m\u001b[0;34m'usecols'\u001b[0m\u001b[0;34m]\u001b[0m \u001b[0;34m=\u001b[0m \u001b[0mself\u001b[0m\u001b[0;34m.\u001b[0m\u001b[0musecols\u001b[0m\u001b[0;34m\u001b[0m\u001b[0m\n\u001b[1;32m   1707\u001b[0m \u001b[0;34m\u001b[0m\u001b[0m\n\u001b[0;32m-> 1708\u001b[0;31m         \u001b[0mself\u001b[0m\u001b[0;34m.\u001b[0m\u001b[0m_reader\u001b[0m \u001b[0;34m=\u001b[0m \u001b[0mparsers\u001b[0m\u001b[0;34m.\u001b[0m\u001b[0mTextReader\u001b[0m\u001b[0;34m(\u001b[0m\u001b[0msrc\u001b[0m\u001b[0;34m,\u001b[0m \u001b[0;34m**\u001b[0m\u001b[0mkwds\u001b[0m\u001b[0;34m)\u001b[0m\u001b[0;34m\u001b[0m\u001b[0m\n\u001b[0m\u001b[1;32m   1709\u001b[0m \u001b[0;34m\u001b[0m\u001b[0m\n\u001b[1;32m   1710\u001b[0m         \u001b[0mpassed_names\u001b[0m \u001b[0;34m=\u001b[0m \u001b[0mself\u001b[0m\u001b[0;34m.\u001b[0m\u001b[0mnames\u001b[0m \u001b[0;32mis\u001b[0m \u001b[0;32mNone\u001b[0m\u001b[0;34m\u001b[0m\u001b[0m\n",
      "\u001b[0;32mpandas/_libs/parsers.pyx\u001b[0m in \u001b[0;36mpandas._libs.parsers.TextReader.__cinit__\u001b[0;34m()\u001b[0m\n",
      "\u001b[0;32mpandas/_libs/parsers.pyx\u001b[0m in \u001b[0;36mpandas._libs.parsers.TextReader._setup_parser_source\u001b[0;34m()\u001b[0m\n",
      "\u001b[0;31mFileNotFoundError\u001b[0m: File b'example-data/birthplaces.csv' does not exist"
     ]
    }
   ],
   "source": [
    "psych_birthplaces = Table.read_table(\"example-data/birthplaces.csv\")\n",
    "psych_birthplaces"
   ]
  },
  {
   "cell_type": "markdown",
   "metadata": {},
   "source": [
    "Awesome! We love more data, but how can I merge this back into our existing information? We can't just add a column because the order is different.\n",
    "\n",
    "***Solution***: We can use the `join` method and tell it which column the two tables have in common, and it will match the data to the correct row:"
   ]
  },
  {
   "cell_type": "code",
   "execution_count": 51,
   "metadata": {},
   "outputs": [
    {
     "ename": "NameError",
     "evalue": "name 'psych_merged_with_food' is not defined",
     "output_type": "error",
     "traceback": [
      "\u001b[0;31m---------------------------------------------------------------------------\u001b[0m",
      "\u001b[0;31mNameError\u001b[0m                                 Traceback (most recent call last)",
      "\u001b[0;32m<ipython-input-51-639d09753855>\u001b[0m in \u001b[0;36m<module>\u001b[0;34m()\u001b[0m\n\u001b[0;32m----> 1\u001b[0;31m \u001b[0mfinal_table\u001b[0m \u001b[0;34m=\u001b[0m \u001b[0mpsych_merged_with_food\u001b[0m\u001b[0;34m.\u001b[0m\u001b[0mjoin\u001b[0m\u001b[0;34m(\u001b[0m\u001b[0;34m\"Psychologist\"\u001b[0m\u001b[0;34m,\u001b[0m \u001b[0mpsych_birthplaces\u001b[0m\u001b[0;34m)\u001b[0m\u001b[0;34m\u001b[0m\u001b[0m\n\u001b[0m\u001b[1;32m      2\u001b[0m \u001b[0mfinal_table\u001b[0m\u001b[0;34m\u001b[0m\u001b[0m\n",
      "\u001b[0;31mNameError\u001b[0m: name 'psych_merged_with_food' is not defined"
     ]
    }
   ],
   "source": [
    "final_table = psych_merged_with_food.join(\"Psychologist\", psych_birthplaces)\n",
    "final_table"
   ]
  },
  {
   "cell_type": "markdown",
   "metadata": {},
   "source": [
    "That's super cool!"
   ]
  },
  {
   "cell_type": "markdown",
   "metadata": {},
   "source": [
    "---\n",
    "\n",
    "## SUMMARY \n",
    "\n",
    "### You've learned a lot in this module! Let's look back on the key parts. \n",
    "\n",
    "- To import data from a .csv/.txt file, we write `Table.read_table(\"file_name\")`.\n",
    "\n",
    "- To create our own table, we write `Table( ).with_columns(\"Column Name\", array_name, . . .)` . \n",
    "\n",
    "- To count number of rows, we use `table_name.num_rows`.\n",
    "\n",
    "- To count number of columns, we use `table_name.num_columns`.\n",
    "\n",
    "- To create a new table with only the columns indicated in the parameters, we use `table_name.select(\"COLUMN NAME\", ...)`. \n",
    "\n",
    "- To create a new table without the columns indicated in the parameters, we use `table_name.drop(\"COLUMN NAME\", ...)`. \n",
    "\n",
    "- To create a table with only certain values, we can use `table_name.where(column_name, predicate)`.\n",
    "\n",
    "- To create a new table with indicated rows from the original table, we use `table_name.take([index 1, index 2, . . . ])`. Remember in Python indices start at 0!\n",
    "\n",
    "- To create a scatter plot, we use `table.scatter(column for x axis, column for y axis)`.\n",
    "\n",
    "- To create a line plot, we use `table.plot(x column, y column)`.\n",
    "\n",
    "- To make a bar graphs, we can use either `table.bar(x column, y column)` or `table.barh(x column, y column)`. \n",
    "\n",
    "- To make a histogram, we use `table.hist(x axis, bins(optional), unit(optional))`. \n",
    "\n",
    "- To merge tables, we use either `append` or `append_column`.\n",
    "\n",
    "- To merge two tables with a common column name we use the `join` method.\n",
    "\n",
    "---\n",
    "\n",
    "With just some simple code, we were able to do an incredible amount of data analysis! Play around with the examples until you feel comfortable with the content of this notebook. We will be using notebooks to analyze your own data sets in the future! Please ask if you have questions!\n",
    "\n",
    "\n",
    "If you need help, please consult the [Data Peers](https://data.berkeley.edu/education/data-science-community)!"
   ]
  },
  {
   "cell_type": "markdown",
   "metadata": {},
   "source": [
    "Talk about how to have a value for something such as Cardiovasular disease\n",
    "Cardiovascular vs. pollution\n",
    "(optional) analysis of something. pick one environment outcome and look at that vs. cardiovascular disease\n",
    "instead of merging tables. do histograms to get to know the data for lab 2\n"
   ]
  },
  {
   "cell_type": "code",
   "execution_count": null,
   "metadata": {},
   "outputs": [],
   "source": []
  }
 ],
 "metadata": {
  "anaconda-cloud": {},
  "kernelspec": {
   "display_name": "Python 3",
   "language": "python",
   "name": "python3"
  },
  "language_info": {
   "codemirror_mode": {
    "name": "ipython",
    "version": 3
   },
   "file_extension": ".py",
   "mimetype": "text/x-python",
   "name": "python",
   "nbconvert_exporter": "python",
   "pygments_lexer": "ipython3",
   "version": "3.6.5"
  }
 },
 "nbformat": 4,
 "nbformat_minor": 2
}
